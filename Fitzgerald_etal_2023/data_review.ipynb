{
 "cells": [
  {
   "cell_type": "markdown",
   "id": "c2d65fc1-9eb3-4884-8d51-29a663feb506",
   "metadata": {},
   "source": [
    "# Data review\n",
    "\n",
    "The data for this review can be found in the SNAP Google Drive in Projects > CASC Projects Data Mgmt > Reviews > Fitzgerald stream hydrology 2023. Copy this data to a place where it can be accessed by this notebook.\n",
    "\n",
    "This notebook will walk through the USGS Data Review checklist, for each data file. \n",
    "\n",
    "First, set up the notebook with imports and paths:"
   ]
  },
  {
   "cell_type": "code",
   "execution_count": 80,
   "id": "dc04e22f-9bd0-4f87-a31f-a57144427017",
   "metadata": {},
   "outputs": [],
   "source": [
    "from pathlib import Path\n",
    "import matplotlib.pyplot as plt\n",
    "import numpy as np\n",
    "import pandas as pd\n",
    "\n",
    "\n",
    "data_dir = Path(\"/atlas_scratch/kmredilla/casc_data_mgmt/FitzgeraldCH1_Data_Metadata_Software\")"
   ]
  },
  {
   "cell_type": "markdown",
   "id": "c0eeeb0b-93e0-489f-b530-af99063e91d0",
   "metadata": {},
   "source": [
    "# USGS Data Review checklist\n",
    "\n",
    "## Are the data values reasonable?\n",
    "\n",
    "Here we will check all of the `.csv` files for reasonable values."
   ]
  },
  {
   "cell_type": "code",
   "execution_count": 7,
   "id": "bb3dffa7-9c25-4163-b459-ded939ff7524",
   "metadata": {},
   "outputs": [],
   "source": [
    "# get all CSV files\n",
    "fps = list(data_dir.glob(\"*.csv\"))"
   ]
  },
  {
   "cell_type": "markdown",
   "id": "94a6abaf-08d8-41f2-aa16-64bd98c962ab",
   "metadata": {},
   "source": [
    "### CSV: `2021 MT Creek Drift Data Final.csv`"
   ]
  },
  {
   "cell_type": "code",
   "execution_count": 20,
   "id": "8d5a0994-1d27-45df-a7bd-2e706cbc55c9",
   "metadata": {},
   "outputs": [
    {
     "name": "stdout",
     "output_type": "stream",
     "text": [
      "/atlas_scratch/kmredilla/casc_data_mgmt/FitzgeraldCH1_Data_Metadata_Software/2021 MT Creek Drift Data Final.csv\n"
     ]
    },
    {
     "data": {
      "text/html": [
       "<div>\n",
       "<style scoped>\n",
       "    .dataframe tbody tr th:only-of-type {\n",
       "        vertical-align: middle;\n",
       "    }\n",
       "\n",
       "    .dataframe tbody tr th {\n",
       "        vertical-align: top;\n",
       "    }\n",
       "\n",
       "    .dataframe thead th {\n",
       "        text-align: right;\n",
       "    }\n",
       "</style>\n",
       "<table border=\"1\" class=\"dataframe\">\n",
       "  <thead>\n",
       "    <tr style=\"text-align: right;\">\n",
       "      <th></th>\n",
       "      <th>Waterbody</th>\n",
       "      <th>Time</th>\n",
       "      <th>Date</th>\n",
       "      <th>Taxon</th>\n",
       "      <th>Stage</th>\n",
       "      <th>Insect</th>\n",
       "      <th>Origin</th>\n",
       "      <th>Higher.classification</th>\n",
       "      <th>Order</th>\n",
       "      <th>Family</th>\n",
       "      <th>Common.name</th>\n",
       "      <th>Length</th>\n",
       "      <th>Abundance</th>\n",
       "      <th>Biomass</th>\n",
       "    </tr>\n",
       "  </thead>\n",
       "  <tbody>\n",
       "    <tr>\n",
       "      <th>0</th>\n",
       "      <td>Upper Montana Creek</td>\n",
       "      <td>14:11</td>\n",
       "      <td>2021-05-31</td>\n",
       "      <td>Oligochaeta</td>\n",
       "      <td>U</td>\n",
       "      <td>non-insect</td>\n",
       "      <td>Aquatic</td>\n",
       "      <td>Annelida: Oligochaeta</td>\n",
       "      <td>miscellaneous non-insect</td>\n",
       "      <td>x</td>\n",
       "      <td>segmented worms</td>\n",
       "      <td>3.0</td>\n",
       "      <td>40.976419</td>\n",
       "      <td>7.002820</td>\n",
       "    </tr>\n",
       "    <tr>\n",
       "      <th>1</th>\n",
       "      <td>Upper Montana Creek</td>\n",
       "      <td>14:11</td>\n",
       "      <td>2021-05-31</td>\n",
       "      <td>Oligochaeta</td>\n",
       "      <td>U</td>\n",
       "      <td>non-insect</td>\n",
       "      <td>Aquatic</td>\n",
       "      <td>Annelida: Oligochaeta</td>\n",
       "      <td>miscellaneous non-insect</td>\n",
       "      <td>x</td>\n",
       "      <td>segmented worms</td>\n",
       "      <td>5.0</td>\n",
       "      <td>59.188161</td>\n",
       "      <td>14.761886</td>\n",
       "    </tr>\n",
       "    <tr>\n",
       "      <th>2</th>\n",
       "      <td>Upper Montana Creek</td>\n",
       "      <td>14:11</td>\n",
       "      <td>2021-05-31</td>\n",
       "      <td>Oligochaeta</td>\n",
       "      <td>U</td>\n",
       "      <td>non-insect</td>\n",
       "      <td>Aquatic</td>\n",
       "      <td>Annelida: Oligochaeta</td>\n",
       "      <td>miscellaneous non-insect</td>\n",
       "      <td>x</td>\n",
       "      <td>segmented worms</td>\n",
       "      <td>8.0</td>\n",
       "      <td>50.082290</td>\n",
       "      <td>17.686422</td>\n",
       "    </tr>\n",
       "    <tr>\n",
       "      <th>3</th>\n",
       "      <td>Upper Montana Creek</td>\n",
       "      <td>14:11</td>\n",
       "      <td>2021-05-31</td>\n",
       "      <td>Nemata</td>\n",
       "      <td>U</td>\n",
       "      <td>non-insect</td>\n",
       "      <td>Aquatic</td>\n",
       "      <td>Nemata</td>\n",
       "      <td>miscellaneous non-insect</td>\n",
       "      <td>x</td>\n",
       "      <td>round worms</td>\n",
       "      <td>2.0</td>\n",
       "      <td>104.717515</td>\n",
       "      <td>13.257167</td>\n",
       "    </tr>\n",
       "    <tr>\n",
       "      <th>4</th>\n",
       "      <td>Upper Montana Creek</td>\n",
       "      <td>14:11</td>\n",
       "      <td>2021-05-31</td>\n",
       "      <td>Nemata</td>\n",
       "      <td>U</td>\n",
       "      <td>non-insect</td>\n",
       "      <td>Aquatic</td>\n",
       "      <td>Nemata</td>\n",
       "      <td>miscellaneous non-insect</td>\n",
       "      <td>x</td>\n",
       "      <td>round worms</td>\n",
       "      <td>5.0</td>\n",
       "      <td>13.658806</td>\n",
       "      <td>3.406589</td>\n",
       "    </tr>\n",
       "  </tbody>\n",
       "</table>\n",
       "</div>"
      ],
      "text/plain": [
       "             Waterbody   Time        Date        Taxon Stage      Insect  \\\n",
       "0  Upper Montana Creek  14:11  2021-05-31  Oligochaeta     U  non-insect   \n",
       "1  Upper Montana Creek  14:11  2021-05-31  Oligochaeta     U  non-insect   \n",
       "2  Upper Montana Creek  14:11  2021-05-31  Oligochaeta     U  non-insect   \n",
       "3  Upper Montana Creek  14:11  2021-05-31       Nemata     U  non-insect   \n",
       "4  Upper Montana Creek  14:11  2021-05-31       Nemata     U  non-insect   \n",
       "\n",
       "    Origin  Higher.classification                     Order Family  \\\n",
       "0  Aquatic  Annelida: Oligochaeta  miscellaneous non-insect      x   \n",
       "1  Aquatic  Annelida: Oligochaeta  miscellaneous non-insect      x   \n",
       "2  Aquatic  Annelida: Oligochaeta  miscellaneous non-insect      x   \n",
       "3  Aquatic                 Nemata  miscellaneous non-insect      x   \n",
       "4  Aquatic                 Nemata  miscellaneous non-insect      x   \n",
       "\n",
       "       Common.name  Length   Abundance    Biomass  \n",
       "0  segmented worms     3.0   40.976419   7.002820  \n",
       "1  segmented worms     5.0   59.188161  14.761886  \n",
       "2  segmented worms     8.0   50.082290  17.686422  \n",
       "3      round worms     2.0  104.717515  13.257167  \n",
       "4      round worms     5.0   13.658806   3.406589  "
      ]
     },
     "execution_count": 20,
     "metadata": {},
     "output_type": "execute_result"
    }
   ],
   "source": [
    "fp = fps[0]\n",
    "print(fp)\n",
    "df = pd.read_csv(fp)\n",
    "df.head()"
   ]
  },
  {
   "cell_type": "markdown",
   "id": "17e49819-ca65-4db6-91ea-9832714b0d48",
   "metadata": {},
   "source": [
    "Check the unique values for all of the non-numeric columns:"
   ]
  },
  {
   "cell_type": "code",
   "execution_count": 32,
   "id": "da23aa3b-c299-4907-b2b1-55a5e1804480",
   "metadata": {},
   "outputs": [
    {
     "name": "stdout",
     "output_type": "stream",
     "text": [
      "['Upper Montana Creek']\n",
      "['14:11' '10:18' '10:41' '10:28' '14:17' '9:25' '15:11' '14:22' '12:01'\n",
      " '10:29' '14:42' '12:47' '12:10' '15:01' '13:52' '11:02' '12:20' '9:43'\n",
      " '10:09' '10:33' '12:25' '12:09' '11:50' '12:52' '11:30' '12:37' '12:50'\n",
      " '10:55' '10:39' '13:55' '11:18' '9:48' '14:04' '10:53' '11:03' '14:44'\n",
      " '15:19' '11:28' '11:31' '10:05' '7:24' '11:19' '15:03' '10:56' '10:16'\n",
      " '10:01' '9:57' '11:05' '10:48' '10:08' '12:35' '10:03' '11:17' '13:40'\n",
      " '10:49' '9:24' '14:51' '13:29' '12:00' '14:19' '10:34' '11:22' '13:38'\n",
      " '11:20']\n",
      "['2021-05-31' '2021-06-01' '2021-06-15' '2021-07-13' '2021-08-14'\n",
      " '2021-08-17' '2021-08-18' '2021-08-25' '2021-09-02' '2021-09-08'\n",
      " '2021-09-10' '2021-09-14' '2021-09-20' '2021-09-21' '2021-10-01'\n",
      " '2021-10-02' '2021-10-07' '2021-10-18' '2021-10-28' '2021-04-30'\n",
      " '2021-05-05' '2021-05-11' '2021-05-14' '2021-05-18' '2021-05-21'\n",
      " '2021-05-22' '2021-05-26' '2021-05-28' '2021-06-04' '2021-06-17'\n",
      " '2021-06-21' '2021-06-24' '2021-06-30' '2021-07-02' '2021-07-06'\n",
      " '2021-07-09' '2021-07-12' '2021-07-15' '2021-07-20' '2021-07-29'\n",
      " '2021-08-04' '2021-08-09' '2021-08-11' '2021-08-13' '2021-08-12'\n",
      " '2021-08-28' '2021-09-03' '2021-09-16' '2021-09-23' '2021-09-24'\n",
      " '2021-09-30' '2021-10-12' '2021-10-26' '2021-06-09']\n",
      "['Oligochaeta' 'Nemata' 'Ostracoda' 'Ephemerellidae' 'Leptophlebiidae'\n",
      " 'Baetis' 'Heptageniidae' 'Leuctridae' 'Chloroperlidae' 'Simuliidae'\n",
      " 'Ceratopogonidae' 'Psychodidae' 'Dixidae' 'Tipuloidea' 'Empididae'\n",
      " 'Chironomidae' 'Brachycera' 'Collembola' 'Acari' 'Nematocera'\n",
      " 'Mycetophilidae' 'Ameletus' 'Chilopoda' 'Lepidoptera' 'Nemouridae'\n",
      " 'Capniidae' 'Rhyacophila' 'Oligophlebodes' 'Ceratopogoninae'\n",
      " 'Blephariceridae' 'Araneae' 'Gastropoda (terrestrial)' 'Neoleptophlebia'\n",
      " 'Amphizoa' 'Ephydridae' 'Rhabdomastix (Rhabdomastix)' 'Coleoptera'\n",
      " 'Pseudoscorpionida' 'Aphididae' 'Hymenoptera sawflies' 'Limnephilidae'\n",
      " 'Culicidae' 'Pisces' 'Dytiscidae' 'Deuterophlebia' 'Muscidae' 'Copepoda'\n",
      " 'Hymenoptera parasitoid' 'Salmonid eggs' 'Perlodidae' 'Neothremma'\n",
      " 'Glossosoma' 'Micrasema' 'Clinocera' 'Pisidium'\n",
      " 'Baetis bicaudatus complex' 'Thysanoptera' 'Hydrophilidae'\n",
      " 'Taeniopterygidae' 'Thaumaleidae' 'Sciomyzidae'\n",
      " 'Hemiptera: Auchenorrhyncha' 'Pulmonata (slugs)' 'Trichoptera'\n",
      " 'Lymnaeidae' 'Glutops' 'Gastropoda' 'Isopoda (terrestrial)' 'Lepidostoma']\n",
      "['U' 'L' 'P' 'A' 'E']\n",
      "['non-insect' 'insect' 'Vertebrata']\n",
      "['Aquatic' 'Terrestrial']\n",
      "['Annelida: Oligochaeta' 'Nemata' 'Crustacea: Ostracoda'\n",
      " 'Arthropoda: Insecta' 'Arthropoda: Collembola' 'Arachnida: Acari'\n",
      " 'Arthropoda: Chilopoda' 'Arthropoda: Arachnida' 'Mollusca: Gastropoda'\n",
      " 'Arthropoda: Pseudoscorpionida' 'Vertebrata' 'Crustacea: Copepoda'\n",
      " 'Mollusca: Bivalvia' 'Crustacea: Isopoda']\n",
      "['miscellaneous non-insect' 'x' 'Ephemeroptera' 'Plecoptera' 'Diptera'\n",
      " 'Lepidoptera' 'Trichoptera' 'Coleoptera' 'Hemiptera: Sternorrhyncha'\n",
      " 'Hymenoptera' 'Thysanoptera' 'Hemiptera: Auchenorrhyncha']\n",
      "['x' 'Ephemerellidae' 'Leptophlebiidae' 'Baetidae' 'Heptageniidae'\n",
      " 'Leuctridae' 'Chloroperlidae' 'Simuliidae' 'Ceratopogonidae'\n",
      " 'Psychodidae' 'Dixidae' 'Tipulidae' 'Empididae' 'Chironomidae'\n",
      " 'Mycetophilidae' 'Ameletidae' 'Nemouridae' 'Capniidae' 'Rhyacophilidae'\n",
      " 'Uenoidae' 'Blephariceridae' 'Amphizoidae' 'Ephydridae' 'Aphidae'\n",
      " 'Limnephilidae' 'Culicidae' 'Dytiscidae' 'Deuterophlebiidae' 'Muscidae'\n",
      " 'Perlodidae' 'Glossosomatidae' 'Brachycentridae' 'Sphaeriidae'\n",
      " 'Hydrophilidae' 'Taeniopterygidae' 'Thaumaleidae' 'Sciomyzidae'\n",
      " 'Lymnaeidae' 'Pelecorhynchidae' 'Lepidostomatidae']\n",
      "['segmented worms' 'round worms' 'seed shrimp' 'mayflies' 'stoneflies'\n",
      " 'black flies' 'no-see-um midges' 'moth flies' 'dixid midges'\n",
      " 'crane flies' 'dance flies' 'midges' 'higher flies' 'springtails' 'mites'\n",
      " 'lower flies' 'fungus gnats' 'centipedes' 'moths' 'caddisflies'\n",
      " 'net-winged midges' 'spiders' 'terrestrial snails' 'trout stream beetles'\n",
      " 'shore and brine flies' 'beetles' 'pseudoscorpions' 'aphids'\n",
      " 'sawfly wasps' 'mosquitoes' 'fish larvae' 'predaceous diving beetles'\n",
      " 'mountain midges' 'copepods' 'parasitic wasps' 'x' 'pea clams' 'thrips'\n",
      " 'water scavenger beetles' 'solitary midges' 'marsh flies'\n",
      " 'planthoppers & cicadas' 'land slugs' 'snails' 'sow and pill bugs']\n"
     ]
    }
   ],
   "source": [
    "for column in df.dtypes[df.dtypes == object].index:\n",
    "    print(df[column].unique())"
   ]
  },
  {
   "cell_type": "markdown",
   "id": "4448ccf1-dd6b-4885-a5d8-13ed0f61186e",
   "metadata": {},
   "source": [
    "Things look pretty good, don't see any obvious misspellings (i.e. two very similarly-spelled words, extra spaces etc..). \n",
    "\n",
    "Couple of sanity checks. \n",
    "\n",
    "All rows where `Insect` column is \"insect\" should have the `Higher.classification` column value of \"Arthropoda: Insecta\":"
   ]
  },
  {
   "cell_type": "code",
   "execution_count": 51,
   "id": "a45c5d2b-bd42-4c2e-b871-8dd3b3d0ed23",
   "metadata": {},
   "outputs": [],
   "source": [
    "assert len(df.query(\"Insect == 'insect' & `Higher.classification` != 'Arthropoda: Insecta'\")) == 0"
   ]
  },
  {
   "cell_type": "markdown",
   "id": "bb3bc6a2-20a6-41ba-8fff-c3f89e2f5a13",
   "metadata": {},
   "source": [
    "The one thing that is throwing me off with this table is that the `Insect` column has \"Vertebrata\" as a possible choice in addition to the more intuitive  \"insect\" and \"non-insect\" options. And that \"Vertebrata\" is also an option used in the `Higher.classification` column. This isn't a show-stopper, but I will make a note in the review. "
   ]
  },
  {
   "cell_type": "code",
   "execution_count": 54,
   "id": "8e9190b2-4563-4250-9bc6-54395319fbda",
   "metadata": {},
   "outputs": [
    {
     "data": {
      "text/html": [
       "<div>\n",
       "<style scoped>\n",
       "    .dataframe tbody tr th:only-of-type {\n",
       "        vertical-align: middle;\n",
       "    }\n",
       "\n",
       "    .dataframe tbody tr th {\n",
       "        vertical-align: top;\n",
       "    }\n",
       "\n",
       "    .dataframe thead th {\n",
       "        text-align: right;\n",
       "    }\n",
       "</style>\n",
       "<table border=\"1\" class=\"dataframe\">\n",
       "  <thead>\n",
       "    <tr style=\"text-align: right;\">\n",
       "      <th></th>\n",
       "      <th>Waterbody</th>\n",
       "      <th>Time</th>\n",
       "      <th>Date</th>\n",
       "      <th>Taxon</th>\n",
       "      <th>Stage</th>\n",
       "      <th>Insect</th>\n",
       "      <th>Origin</th>\n",
       "      <th>Higher.classification</th>\n",
       "      <th>Order</th>\n",
       "      <th>Family</th>\n",
       "      <th>Common.name</th>\n",
       "      <th>Length</th>\n",
       "      <th>Abundance</th>\n",
       "      <th>Biomass</th>\n",
       "    </tr>\n",
       "  </thead>\n",
       "  <tbody>\n",
       "    <tr>\n",
       "      <th>243</th>\n",
       "      <td>Upper Montana Creek</td>\n",
       "      <td>14:17</td>\n",
       "      <td>2021-06-15</td>\n",
       "      <td>Pisces</td>\n",
       "      <td>U</td>\n",
       "      <td>Vertebrata</td>\n",
       "      <td>Aquatic</td>\n",
       "      <td>Vertebrata</td>\n",
       "      <td>x</td>\n",
       "      <td>x</td>\n",
       "      <td>fish larvae</td>\n",
       "      <td>6.0</td>\n",
       "      <td>3.317402</td>\n",
       "      <td>0.788149</td>\n",
       "    </tr>\n",
       "    <tr>\n",
       "      <th>375</th>\n",
       "      <td>Upper Montana Creek</td>\n",
       "      <td>9:25</td>\n",
       "      <td>2021-08-14</td>\n",
       "      <td>Salmonid eggs</td>\n",
       "      <td>E</td>\n",
       "      <td>Vertebrata</td>\n",
       "      <td>Aquatic</td>\n",
       "      <td>Vertebrata</td>\n",
       "      <td>x</td>\n",
       "      <td>x</td>\n",
       "      <td>x</td>\n",
       "      <td>6.0</td>\n",
       "      <td>1.357414</td>\n",
       "      <td>56.988067</td>\n",
       "    </tr>\n",
       "    <tr>\n",
       "      <th>2272</th>\n",
       "      <td>Upper Montana Creek</td>\n",
       "      <td>11:31</td>\n",
       "      <td>2021-06-17</td>\n",
       "      <td>Pisces</td>\n",
       "      <td>U</td>\n",
       "      <td>Vertebrata</td>\n",
       "      <td>Aquatic</td>\n",
       "      <td>Vertebrata</td>\n",
       "      <td>x</td>\n",
       "      <td>x</td>\n",
       "      <td>fish larvae</td>\n",
       "      <td>6.0</td>\n",
       "      <td>1.247446</td>\n",
       "      <td>0.296368</td>\n",
       "    </tr>\n",
       "    <tr>\n",
       "      <th>2411</th>\n",
       "      <td>Upper Montana Creek</td>\n",
       "      <td>11:19</td>\n",
       "      <td>2021-06-24</td>\n",
       "      <td>Pisces</td>\n",
       "      <td>U</td>\n",
       "      <td>Vertebrata</td>\n",
       "      <td>Aquatic</td>\n",
       "      <td>Vertebrata</td>\n",
       "      <td>x</td>\n",
       "      <td>x</td>\n",
       "      <td>fish larvae</td>\n",
       "      <td>24.0</td>\n",
       "      <td>1.534785</td>\n",
       "      <td>42.948138</td>\n",
       "    </tr>\n",
       "    <tr>\n",
       "      <th>2537</th>\n",
       "      <td>Upper Montana Creek</td>\n",
       "      <td>10:16</td>\n",
       "      <td>2021-07-02</td>\n",
       "      <td>Pisces</td>\n",
       "      <td>U</td>\n",
       "      <td>Vertebrata</td>\n",
       "      <td>Aquatic</td>\n",
       "      <td>Vertebrata</td>\n",
       "      <td>x</td>\n",
       "      <td>x</td>\n",
       "      <td>fish larvae</td>\n",
       "      <td>4.0</td>\n",
       "      <td>2.348812</td>\n",
       "      <td>0.138326</td>\n",
       "    </tr>\n",
       "    <tr>\n",
       "      <th>2538</th>\n",
       "      <td>Upper Montana Creek</td>\n",
       "      <td>10:16</td>\n",
       "      <td>2021-07-02</td>\n",
       "      <td>Pisces</td>\n",
       "      <td>U</td>\n",
       "      <td>Vertebrata</td>\n",
       "      <td>Aquatic</td>\n",
       "      <td>Vertebrata</td>\n",
       "      <td>x</td>\n",
       "      <td>x</td>\n",
       "      <td>fish larvae</td>\n",
       "      <td>5.0</td>\n",
       "      <td>0.782937</td>\n",
       "      <td>0.099347</td>\n",
       "    </tr>\n",
       "    <tr>\n",
       "      <th>2939</th>\n",
       "      <td>Upper Montana Creek</td>\n",
       "      <td>11:17</td>\n",
       "      <td>2021-08-09</td>\n",
       "      <td>Salmonid eggs</td>\n",
       "      <td>E</td>\n",
       "      <td>Vertebrata</td>\n",
       "      <td>Aquatic</td>\n",
       "      <td>Vertebrata</td>\n",
       "      <td>x</td>\n",
       "      <td>x</td>\n",
       "      <td>x</td>\n",
       "      <td>5.0</td>\n",
       "      <td>4.710205</td>\n",
       "      <td>119.346891</td>\n",
       "    </tr>\n",
       "    <tr>\n",
       "      <th>3113</th>\n",
       "      <td>Upper Montana Creek</td>\n",
       "      <td>10:49</td>\n",
       "      <td>2021-08-12</td>\n",
       "      <td>Pisces</td>\n",
       "      <td>U</td>\n",
       "      <td>Vertebrata</td>\n",
       "      <td>Aquatic</td>\n",
       "      <td>Vertebrata</td>\n",
       "      <td>x</td>\n",
       "      <td>x</td>\n",
       "      <td>fish larvae</td>\n",
       "      <td>5.0</td>\n",
       "      <td>2.672538</td>\n",
       "      <td>0.339118</td>\n",
       "    </tr>\n",
       "    <tr>\n",
       "      <th>3114</th>\n",
       "      <td>Upper Montana Creek</td>\n",
       "      <td>10:49</td>\n",
       "      <td>2021-08-12</td>\n",
       "      <td>Pisces</td>\n",
       "      <td>U</td>\n",
       "      <td>Vertebrata</td>\n",
       "      <td>Aquatic</td>\n",
       "      <td>Vertebrata</td>\n",
       "      <td>x</td>\n",
       "      <td>x</td>\n",
       "      <td>fish larvae</td>\n",
       "      <td>6.0</td>\n",
       "      <td>8.017615</td>\n",
       "      <td>1.904827</td>\n",
       "    </tr>\n",
       "    <tr>\n",
       "      <th>3607</th>\n",
       "      <td>Upper Montana Creek</td>\n",
       "      <td>11:22</td>\n",
       "      <td>2021-10-26</td>\n",
       "      <td>Pisces</td>\n",
       "      <td>U</td>\n",
       "      <td>Vertebrata</td>\n",
       "      <td>Aquatic</td>\n",
       "      <td>Vertebrata</td>\n",
       "      <td>x</td>\n",
       "      <td>x</td>\n",
       "      <td>fish larvae</td>\n",
       "      <td>31.0</td>\n",
       "      <td>0.234891</td>\n",
       "      <td>15.853345</td>\n",
       "    </tr>\n",
       "  </tbody>\n",
       "</table>\n",
       "</div>"
      ],
      "text/plain": [
       "                Waterbody   Time        Date          Taxon Stage      Insect  \\\n",
       "243   Upper Montana Creek  14:17  2021-06-15         Pisces     U  Vertebrata   \n",
       "375   Upper Montana Creek   9:25  2021-08-14  Salmonid eggs     E  Vertebrata   \n",
       "2272  Upper Montana Creek  11:31  2021-06-17         Pisces     U  Vertebrata   \n",
       "2411  Upper Montana Creek  11:19  2021-06-24         Pisces     U  Vertebrata   \n",
       "2537  Upper Montana Creek  10:16  2021-07-02         Pisces     U  Vertebrata   \n",
       "2538  Upper Montana Creek  10:16  2021-07-02         Pisces     U  Vertebrata   \n",
       "2939  Upper Montana Creek  11:17  2021-08-09  Salmonid eggs     E  Vertebrata   \n",
       "3113  Upper Montana Creek  10:49  2021-08-12         Pisces     U  Vertebrata   \n",
       "3114  Upper Montana Creek  10:49  2021-08-12         Pisces     U  Vertebrata   \n",
       "3607  Upper Montana Creek  11:22  2021-10-26         Pisces     U  Vertebrata   \n",
       "\n",
       "       Origin Higher.classification Order Family  Common.name  Length  \\\n",
       "243   Aquatic            Vertebrata     x      x  fish larvae     6.0   \n",
       "375   Aquatic            Vertebrata     x      x            x     6.0   \n",
       "2272  Aquatic            Vertebrata     x      x  fish larvae     6.0   \n",
       "2411  Aquatic            Vertebrata     x      x  fish larvae    24.0   \n",
       "2537  Aquatic            Vertebrata     x      x  fish larvae     4.0   \n",
       "2538  Aquatic            Vertebrata     x      x  fish larvae     5.0   \n",
       "2939  Aquatic            Vertebrata     x      x            x     5.0   \n",
       "3113  Aquatic            Vertebrata     x      x  fish larvae     5.0   \n",
       "3114  Aquatic            Vertebrata     x      x  fish larvae     6.0   \n",
       "3607  Aquatic            Vertebrata     x      x  fish larvae    31.0   \n",
       "\n",
       "      Abundance     Biomass  \n",
       "243    3.317402    0.788149  \n",
       "375    1.357414   56.988067  \n",
       "2272   1.247446    0.296368  \n",
       "2411   1.534785   42.948138  \n",
       "2537   2.348812    0.138326  \n",
       "2538   0.782937    0.099347  \n",
       "2939   4.710205  119.346891  \n",
       "3113   2.672538    0.339118  \n",
       "3114   8.017615    1.904827  \n",
       "3607   0.234891   15.853345  "
      ]
     },
     "execution_count": 54,
     "metadata": {},
     "output_type": "execute_result"
    }
   ],
   "source": [
    "df.query(\"Insect == 'Vertebrata' & `Higher.classification` == 'Vertebrata'\")"
   ]
  },
  {
   "cell_type": "markdown",
   "id": "006ebacb-478d-42ce-9185-2346a5c9987d",
   "metadata": {},
   "source": [
    "Now onto the quantitative columns. Plot some histograms:"
   ]
  },
  {
   "cell_type": "markdown",
   "id": "286c97ec-d4a1-48c4-88d8-2a3cedd3914c",
   "metadata": {},
   "source": [
    "**Length**"
   ]
  },
  {
   "cell_type": "code",
   "execution_count": 55,
   "id": "7cd3dd93-27ca-45c4-b2c1-6b96816032d8",
   "metadata": {},
   "outputs": [
    {
     "data": {
      "text/plain": [
       "<AxesSubplot: >"
      ]
     },
     "execution_count": 55,
     "metadata": {},
     "output_type": "execute_result"
    },
    {
     "data": {
      "image/png": "[encoded data removed]",
      "text/plain": [
       "<Figure size 640x480 with 1 Axes>"
      ]
     },
     "metadata": {},
     "output_type": "display_data"
    }
   ],
   "source": [
    "df.Length.hist()"
   ]
  },
  {
   "cell_type": "markdown",
   "id": "bb7bad74-dcfd-47dc-8f6c-b90a61da1976",
   "metadata": {},
   "source": [
    "**Abundance**"
   ]
  },
  {
   "cell_type": "code",
   "execution_count": 56,
   "id": "81348338-6ffd-45f7-b5a1-e629359cdcee",
   "metadata": {},
   "outputs": [
    {
     "data": {
      "text/plain": [
       "<AxesSubplot: >"
      ]
     },
     "execution_count": 56,
     "metadata": {},
     "output_type": "execute_result"
    },
    {
     "data": {
      "image/png": "[encoded data removed]",
      "text/plain": [
       "<Figure size 640x480 with 1 Axes>"
      ]
     },
     "metadata": {},
     "output_type": "display_data"
    }
   ],
   "source": [
    "df.Abundance.hist()"
   ]
  },
  {
   "cell_type": "code",
   "execution_count": 59,
   "id": "e66ac5d2-2ea4-4ade-9277-36970695edbc",
   "metadata": {},
   "outputs": [
    {
     "name": "stdout",
     "output_type": "stream",
     "text": [
      "Maximum of Abundance column: 7146.165472\n"
     ]
    },
    {
     "data": {
      "text/html": [
       "<div>\n",
       "<style scoped>\n",
       "    .dataframe tbody tr th:only-of-type {\n",
       "        vertical-align: middle;\n",
       "    }\n",
       "\n",
       "    .dataframe tbody tr th {\n",
       "        vertical-align: top;\n",
       "    }\n",
       "\n",
       "    .dataframe thead th {\n",
       "        text-align: right;\n",
       "    }\n",
       "</style>\n",
       "<table border=\"1\" class=\"dataframe\">\n",
       "  <thead>\n",
       "    <tr style=\"text-align: right;\">\n",
       "      <th></th>\n",
       "      <th>Waterbody</th>\n",
       "      <th>Time</th>\n",
       "      <th>Date</th>\n",
       "      <th>Taxon</th>\n",
       "      <th>Stage</th>\n",
       "      <th>Insect</th>\n",
       "      <th>Origin</th>\n",
       "      <th>Higher.classification</th>\n",
       "      <th>Order</th>\n",
       "      <th>Family</th>\n",
       "      <th>Common.name</th>\n",
       "      <th>Length</th>\n",
       "      <th>Abundance</th>\n",
       "      <th>Biomass</th>\n",
       "    </tr>\n",
       "  </thead>\n",
       "  <tbody>\n",
       "    <tr>\n",
       "      <th>370</th>\n",
       "      <td>Upper Montana Creek</td>\n",
       "      <td>14:11</td>\n",
       "      <td>2021-07-13</td>\n",
       "      <td>Chironomidae</td>\n",
       "      <td>L</td>\n",
       "      <td>insect</td>\n",
       "      <td>Aquatic</td>\n",
       "      <td>Arthropoda: Insecta</td>\n",
       "      <td>Diptera</td>\n",
       "      <td>Chironomidae</td>\n",
       "      <td>midges</td>\n",
       "      <td>1.5</td>\n",
       "      <td>7146.165472</td>\n",
       "      <td>37.168617</td>\n",
       "    </tr>\n",
       "  </tbody>\n",
       "</table>\n",
       "</div>"
      ],
      "text/plain": [
       "               Waterbody   Time        Date         Taxon Stage  Insect  \\\n",
       "370  Upper Montana Creek  14:11  2021-07-13  Chironomidae     L  insect   \n",
       "\n",
       "      Origin Higher.classification    Order        Family Common.name  Length  \\\n",
       "370  Aquatic   Arthropoda: Insecta  Diptera  Chironomidae      midges     1.5   \n",
       "\n",
       "       Abundance    Biomass  \n",
       "370  7146.165472  37.168617  "
      ]
     },
     "execution_count": 59,
     "metadata": {},
     "output_type": "execute_result"
    }
   ],
   "source": [
    "print(f\"Maximum of Abundance column: {df.Abundance.max()}\")\n",
    "df[df.Abundance == df.Abundance.max()]"
   ]
  },
  {
   "cell_type": "markdown",
   "id": "d4487fe5-1161-4896-ba03-913ab19c34ef",
   "metadata": {},
   "source": [
    "Are there any other rows where Abundance is greater than even 1000?"
   ]
  },
  {
   "cell_type": "code",
   "execution_count": 61,
   "id": "822cb947-caa3-408a-a5bd-4c8e3caaa18f",
   "metadata": {},
   "outputs": [
    {
     "data": {
      "text/html": [
       "<div>\n",
       "<style scoped>\n",
       "    .dataframe tbody tr th:only-of-type {\n",
       "        vertical-align: middle;\n",
       "    }\n",
       "\n",
       "    .dataframe tbody tr th {\n",
       "        vertical-align: top;\n",
       "    }\n",
       "\n",
       "    .dataframe thead th {\n",
       "        text-align: right;\n",
       "    }\n",
       "</style>\n",
       "<table border=\"1\" class=\"dataframe\">\n",
       "  <thead>\n",
       "    <tr style=\"text-align: right;\">\n",
       "      <th></th>\n",
       "      <th>Waterbody</th>\n",
       "      <th>Time</th>\n",
       "      <th>Date</th>\n",
       "      <th>Taxon</th>\n",
       "      <th>Stage</th>\n",
       "      <th>Insect</th>\n",
       "      <th>Origin</th>\n",
       "      <th>Higher.classification</th>\n",
       "      <th>Order</th>\n",
       "      <th>Family</th>\n",
       "      <th>Common.name</th>\n",
       "      <th>Length</th>\n",
       "      <th>Abundance</th>\n",
       "      <th>Biomass</th>\n",
       "    </tr>\n",
       "  </thead>\n",
       "  <tbody>\n",
       "    <tr>\n",
       "      <th>314</th>\n",
       "      <td>Upper Montana Creek</td>\n",
       "      <td>14:11</td>\n",
       "      <td>2021-07-13</td>\n",
       "      <td>Acari</td>\n",
       "      <td>U</td>\n",
       "      <td>non-insect</td>\n",
       "      <td>Aquatic</td>\n",
       "      <td>Arachnida: Acari</td>\n",
       "      <td>x</td>\n",
       "      <td>x</td>\n",
       "      <td>mites</td>\n",
       "      <td>0.5</td>\n",
       "      <td>1191.027579</td>\n",
       "      <td>11.205439</td>\n",
       "    </tr>\n",
       "    <tr>\n",
       "      <th>340</th>\n",
       "      <td>Upper Montana Creek</td>\n",
       "      <td>14:11</td>\n",
       "      <td>2021-07-13</td>\n",
       "      <td>Baetis</td>\n",
       "      <td>L</td>\n",
       "      <td>insect</td>\n",
       "      <td>Aquatic</td>\n",
       "      <td>Arthropoda: Insecta</td>\n",
       "      <td>Ephemeroptera</td>\n",
       "      <td>Baetidae</td>\n",
       "      <td>mayflies</td>\n",
       "      <td>1.0</td>\n",
       "      <td>2273.779923</td>\n",
       "      <td>12.051034</td>\n",
       "    </tr>\n",
       "    <tr>\n",
       "      <th>341</th>\n",
       "      <td>Upper Montana Creek</td>\n",
       "      <td>14:11</td>\n",
       "      <td>2021-07-13</td>\n",
       "      <td>Baetis</td>\n",
       "      <td>L</td>\n",
       "      <td>insect</td>\n",
       "      <td>Aquatic</td>\n",
       "      <td>Arthropoda: Insecta</td>\n",
       "      <td>Ephemeroptera</td>\n",
       "      <td>Baetidae</td>\n",
       "      <td>mayflies</td>\n",
       "      <td>1.5</td>\n",
       "      <td>5792.725042</td>\n",
       "      <td>98.496581</td>\n",
       "    </tr>\n",
       "    <tr>\n",
       "      <th>342</th>\n",
       "      <td>Upper Montana Creek</td>\n",
       "      <td>14:11</td>\n",
       "      <td>2021-07-13</td>\n",
       "      <td>Baetis</td>\n",
       "      <td>L</td>\n",
       "      <td>insect</td>\n",
       "      <td>Aquatic</td>\n",
       "      <td>Arthropoda: Insecta</td>\n",
       "      <td>Ephemeroptera</td>\n",
       "      <td>Baetidae</td>\n",
       "      <td>mayflies</td>\n",
       "      <td>2.0</td>\n",
       "      <td>1407.578048</td>\n",
       "      <td>54.728002</td>\n",
       "    </tr>\n",
       "    <tr>\n",
       "      <th>370</th>\n",
       "      <td>Upper Montana Creek</td>\n",
       "      <td>14:11</td>\n",
       "      <td>2021-07-13</td>\n",
       "      <td>Chironomidae</td>\n",
       "      <td>L</td>\n",
       "      <td>insect</td>\n",
       "      <td>Aquatic</td>\n",
       "      <td>Arthropoda: Insecta</td>\n",
       "      <td>Diptera</td>\n",
       "      <td>Chironomidae</td>\n",
       "      <td>midges</td>\n",
       "      <td>1.5</td>\n",
       "      <td>7146.165472</td>\n",
       "      <td>37.168617</td>\n",
       "    </tr>\n",
       "  </tbody>\n",
       "</table>\n",
       "</div>"
      ],
      "text/plain": [
       "               Waterbody   Time        Date         Taxon Stage      Insect  \\\n",
       "314  Upper Montana Creek  14:11  2021-07-13         Acari     U  non-insect   \n",
       "340  Upper Montana Creek  14:11  2021-07-13        Baetis     L      insect   \n",
       "341  Upper Montana Creek  14:11  2021-07-13        Baetis     L      insect   \n",
       "342  Upper Montana Creek  14:11  2021-07-13        Baetis     L      insect   \n",
       "370  Upper Montana Creek  14:11  2021-07-13  Chironomidae     L      insect   \n",
       "\n",
       "      Origin Higher.classification          Order        Family Common.name  \\\n",
       "314  Aquatic      Arachnida: Acari              x             x       mites   \n",
       "340  Aquatic   Arthropoda: Insecta  Ephemeroptera      Baetidae    mayflies   \n",
       "341  Aquatic   Arthropoda: Insecta  Ephemeroptera      Baetidae    mayflies   \n",
       "342  Aquatic   Arthropoda: Insecta  Ephemeroptera      Baetidae    mayflies   \n",
       "370  Aquatic   Arthropoda: Insecta        Diptera  Chironomidae      midges   \n",
       "\n",
       "     Length    Abundance    Biomass  \n",
       "314     0.5  1191.027579  11.205439  \n",
       "340     1.0  2273.779923  12.051034  \n",
       "341     1.5  5792.725042  98.496581  \n",
       "342     2.0  1407.578048  54.728002  \n",
       "370     1.5  7146.165472  37.168617  "
      ]
     },
     "execution_count": 61,
     "metadata": {},
     "output_type": "execute_result"
    }
   ],
   "source": [
    "df[df.Abundance > 1000]"
   ]
  },
  {
   "cell_type": "markdown",
   "id": "a20547b8-14fb-4bbe-b457-20723abc97a6",
   "metadata": {},
   "source": [
    "Well, I guess it doesn't seem too crazy.\n",
    "\n",
    "Checkout **Biomass**:"
   ]
  },
  {
   "cell_type": "code",
   "execution_count": 62,
   "id": "68376c49-e812-45b8-b037-8ecb3b5c7a96",
   "metadata": {},
   "outputs": [
    {
     "data": {
      "text/plain": [
       "<AxesSubplot: >"
      ]
     },
     "execution_count": 62,
     "metadata": {},
     "output_type": "execute_result"
    },
    {
     "data": {
      "image/png": "[encoded data removed]",
      "text/plain": [
       "<Figure size 640x480 with 1 Axes>"
      ]
     },
     "metadata": {},
     "output_type": "display_data"
    }
   ],
   "source": [
    "df.Biomass.hist()"
   ]
  },
  {
   "cell_type": "markdown",
   "id": "ea3722c9-9e22-4d14-9c84-884a5547263a",
   "metadata": {},
   "source": [
    "Outlier potential. Dig in:"
   ]
  },
  {
   "cell_type": "code",
   "execution_count": 64,
   "id": "252fe71e-ebda-4e6a-b692-8c8e33e04d44",
   "metadata": {},
   "outputs": [
    {
     "name": "stdout",
     "output_type": "stream",
     "text": [
      "Maximum of Biomass column: 715.7466982\n"
     ]
    },
    {
     "data": {
      "text/html": [
       "<div>\n",
       "<style scoped>\n",
       "    .dataframe tbody tr th:only-of-type {\n",
       "        vertical-align: middle;\n",
       "    }\n",
       "\n",
       "    .dataframe tbody tr th {\n",
       "        vertical-align: top;\n",
       "    }\n",
       "\n",
       "    .dataframe thead th {\n",
       "        text-align: right;\n",
       "    }\n",
       "</style>\n",
       "<table border=\"1\" class=\"dataframe\">\n",
       "  <thead>\n",
       "    <tr style=\"text-align: right;\">\n",
       "      <th></th>\n",
       "      <th>Waterbody</th>\n",
       "      <th>Time</th>\n",
       "      <th>Date</th>\n",
       "      <th>Taxon</th>\n",
       "      <th>Stage</th>\n",
       "      <th>Insect</th>\n",
       "      <th>Origin</th>\n",
       "      <th>Higher.classification</th>\n",
       "      <th>Order</th>\n",
       "      <th>Family</th>\n",
       "      <th>Common.name</th>\n",
       "      <th>Length</th>\n",
       "      <th>Abundance</th>\n",
       "      <th>Biomass</th>\n",
       "    </tr>\n",
       "  </thead>\n",
       "  <tbody>\n",
       "    <tr>\n",
       "      <th>321</th>\n",
       "      <td>Upper Montana Creek</td>\n",
       "      <td>14:11</td>\n",
       "      <td>2021-07-13</td>\n",
       "      <td>Coleoptera</td>\n",
       "      <td>A</td>\n",
       "      <td>insect</td>\n",
       "      <td>Terrestrial</td>\n",
       "      <td>Arthropoda: Insecta</td>\n",
       "      <td>Coleoptera</td>\n",
       "      <td>x</td>\n",
       "      <td>beetles</td>\n",
       "      <td>9.0</td>\n",
       "      <td>54.137617</td>\n",
       "      <td>715.746698</td>\n",
       "    </tr>\n",
       "  </tbody>\n",
       "</table>\n",
       "</div>"
      ],
      "text/plain": [
       "               Waterbody   Time        Date       Taxon Stage  Insect  \\\n",
       "321  Upper Montana Creek  14:11  2021-07-13  Coleoptera     A  insect   \n",
       "\n",
       "          Origin Higher.classification       Order Family Common.name  Length  \\\n",
       "321  Terrestrial   Arthropoda: Insecta  Coleoptera      x     beetles     9.0   \n",
       "\n",
       "     Abundance     Biomass  \n",
       "321  54.137617  715.746698  "
      ]
     },
     "execution_count": 64,
     "metadata": {},
     "output_type": "execute_result"
    }
   ],
   "source": [
    "print(f\"Maximum of Biomass column: {df.Biomass.max()}\")\n",
    "df[df.Biomass == df.Biomass.max()]"
   ]
  },
  {
   "cell_type": "code",
   "execution_count": 66,
   "id": "8b775576-7675-4098-8b14-ea6097dde173",
   "metadata": {},
   "outputs": [
    {
     "data": {
      "text/html": [
       "<div>\n",
       "<style scoped>\n",
       "    .dataframe tbody tr th:only-of-type {\n",
       "        vertical-align: middle;\n",
       "    }\n",
       "\n",
       "    .dataframe tbody tr th {\n",
       "        vertical-align: top;\n",
       "    }\n",
       "\n",
       "    .dataframe thead th {\n",
       "        text-align: right;\n",
       "    }\n",
       "</style>\n",
       "<table border=\"1\" class=\"dataframe\">\n",
       "  <thead>\n",
       "    <tr style=\"text-align: right;\">\n",
       "      <th></th>\n",
       "      <th>Waterbody</th>\n",
       "      <th>Time</th>\n",
       "      <th>Date</th>\n",
       "      <th>Taxon</th>\n",
       "      <th>Stage</th>\n",
       "      <th>Insect</th>\n",
       "      <th>Origin</th>\n",
       "      <th>Higher.classification</th>\n",
       "      <th>Order</th>\n",
       "      <th>Family</th>\n",
       "      <th>Common.name</th>\n",
       "      <th>Length</th>\n",
       "      <th>Abundance</th>\n",
       "      <th>Biomass</th>\n",
       "    </tr>\n",
       "  </thead>\n",
       "  <tbody>\n",
       "    <tr>\n",
       "      <th>320</th>\n",
       "      <td>Upper Montana Creek</td>\n",
       "      <td>14:11</td>\n",
       "      <td>2021-07-13</td>\n",
       "      <td>Coleoptera</td>\n",
       "      <td>A</td>\n",
       "      <td>insect</td>\n",
       "      <td>Terrestrial</td>\n",
       "      <td>Arthropoda: Insecta</td>\n",
       "      <td>Coleoptera</td>\n",
       "      <td>x</td>\n",
       "      <td>beetles</td>\n",
       "      <td>6.0</td>\n",
       "      <td>54.137617</td>\n",
       "      <td>245.402187</td>\n",
       "    </tr>\n",
       "    <tr>\n",
       "      <th>321</th>\n",
       "      <td>Upper Montana Creek</td>\n",
       "      <td>14:11</td>\n",
       "      <td>2021-07-13</td>\n",
       "      <td>Coleoptera</td>\n",
       "      <td>A</td>\n",
       "      <td>insect</td>\n",
       "      <td>Terrestrial</td>\n",
       "      <td>Arthropoda: Insecta</td>\n",
       "      <td>Coleoptera</td>\n",
       "      <td>x</td>\n",
       "      <td>beetles</td>\n",
       "      <td>9.0</td>\n",
       "      <td>54.137617</td>\n",
       "      <td>715.746698</td>\n",
       "    </tr>\n",
       "    <tr>\n",
       "      <th>328</th>\n",
       "      <td>Upper Montana Creek</td>\n",
       "      <td>14:11</td>\n",
       "      <td>2021-07-13</td>\n",
       "      <td>Heptageniidae</td>\n",
       "      <td>L</td>\n",
       "      <td>insect</td>\n",
       "      <td>Aquatic</td>\n",
       "      <td>Arthropoda: Insecta</td>\n",
       "      <td>Ephemeroptera</td>\n",
       "      <td>Heptageniidae</td>\n",
       "      <td>mayflies</td>\n",
       "      <td>7.0</td>\n",
       "      <td>54.137617</td>\n",
       "      <td>124.257581</td>\n",
       "    </tr>\n",
       "    <tr>\n",
       "      <th>334</th>\n",
       "      <td>Upper Montana Creek</td>\n",
       "      <td>14:11</td>\n",
       "      <td>2021-07-13</td>\n",
       "      <td>Heptageniidae</td>\n",
       "      <td>L</td>\n",
       "      <td>insect</td>\n",
       "      <td>Aquatic</td>\n",
       "      <td>Arthropoda: Insecta</td>\n",
       "      <td>Ephemeroptera</td>\n",
       "      <td>Heptageniidae</td>\n",
       "      <td>mayflies</td>\n",
       "      <td>6.0</td>\n",
       "      <td>108.275234</td>\n",
       "      <td>162.547926</td>\n",
       "    </tr>\n",
       "    <tr>\n",
       "      <th>343</th>\n",
       "      <td>Upper Montana Creek</td>\n",
       "      <td>14:11</td>\n",
       "      <td>2021-07-13</td>\n",
       "      <td>Baetis</td>\n",
       "      <td>L</td>\n",
       "      <td>insect</td>\n",
       "      <td>Aquatic</td>\n",
       "      <td>Arthropoda: Insecta</td>\n",
       "      <td>Ephemeroptera</td>\n",
       "      <td>Baetidae</td>\n",
       "      <td>mayflies</td>\n",
       "      <td>3.0</td>\n",
       "      <td>920.339493</td>\n",
       "      <td>114.801493</td>\n",
       "    </tr>\n",
       "    <tr>\n",
       "      <th>344</th>\n",
       "      <td>Upper Montana Creek</td>\n",
       "      <td>14:11</td>\n",
       "      <td>2021-07-13</td>\n",
       "      <td>Baetis</td>\n",
       "      <td>L</td>\n",
       "      <td>insect</td>\n",
       "      <td>Aquatic</td>\n",
       "      <td>Arthropoda: Insecta</td>\n",
       "      <td>Ephemeroptera</td>\n",
       "      <td>Baetidae</td>\n",
       "      <td>mayflies</td>\n",
       "      <td>4.0</td>\n",
       "      <td>812.064258</td>\n",
       "      <td>231.626765</td>\n",
       "    </tr>\n",
       "    <tr>\n",
       "      <th>345</th>\n",
       "      <td>Upper Montana Creek</td>\n",
       "      <td>14:11</td>\n",
       "      <td>2021-07-13</td>\n",
       "      <td>Baetis</td>\n",
       "      <td>L</td>\n",
       "      <td>insect</td>\n",
       "      <td>Aquatic</td>\n",
       "      <td>Arthropoda: Insecta</td>\n",
       "      <td>Ephemeroptera</td>\n",
       "      <td>Baetidae</td>\n",
       "      <td>mayflies</td>\n",
       "      <td>5.0</td>\n",
       "      <td>595.513789</td>\n",
       "      <td>322.631267</td>\n",
       "    </tr>\n",
       "    <tr>\n",
       "      <th>355</th>\n",
       "      <td>Upper Montana Creek</td>\n",
       "      <td>14:11</td>\n",
       "      <td>2021-07-13</td>\n",
       "      <td>Coleoptera</td>\n",
       "      <td>A</td>\n",
       "      <td>insect</td>\n",
       "      <td>Terrestrial</td>\n",
       "      <td>Arthropoda: Insecta</td>\n",
       "      <td>Coleoptera</td>\n",
       "      <td>x</td>\n",
       "      <td>beetles</td>\n",
       "      <td>6.0</td>\n",
       "      <td>54.137617</td>\n",
       "      <td>245.402187</td>\n",
       "    </tr>\n",
       "    <tr>\n",
       "      <th>2939</th>\n",
       "      <td>Upper Montana Creek</td>\n",
       "      <td>11:17</td>\n",
       "      <td>2021-08-09</td>\n",
       "      <td>Salmonid eggs</td>\n",
       "      <td>E</td>\n",
       "      <td>Vertebrata</td>\n",
       "      <td>Aquatic</td>\n",
       "      <td>Vertebrata</td>\n",
       "      <td>x</td>\n",
       "      <td>x</td>\n",
       "      <td>x</td>\n",
       "      <td>5.0</td>\n",
       "      <td>4.710205</td>\n",
       "      <td>119.346891</td>\n",
       "    </tr>\n",
       "  </tbody>\n",
       "</table>\n",
       "</div>"
      ],
      "text/plain": [
       "                Waterbody   Time        Date          Taxon Stage      Insect  \\\n",
       "320   Upper Montana Creek  14:11  2021-07-13     Coleoptera     A      insect   \n",
       "321   Upper Montana Creek  14:11  2021-07-13     Coleoptera     A      insect   \n",
       "328   Upper Montana Creek  14:11  2021-07-13  Heptageniidae     L      insect   \n",
       "334   Upper Montana Creek  14:11  2021-07-13  Heptageniidae     L      insect   \n",
       "343   Upper Montana Creek  14:11  2021-07-13         Baetis     L      insect   \n",
       "344   Upper Montana Creek  14:11  2021-07-13         Baetis     L      insect   \n",
       "345   Upper Montana Creek  14:11  2021-07-13         Baetis     L      insect   \n",
       "355   Upper Montana Creek  14:11  2021-07-13     Coleoptera     A      insect   \n",
       "2939  Upper Montana Creek  11:17  2021-08-09  Salmonid eggs     E  Vertebrata   \n",
       "\n",
       "           Origin Higher.classification          Order         Family  \\\n",
       "320   Terrestrial   Arthropoda: Insecta     Coleoptera              x   \n",
       "321   Terrestrial   Arthropoda: Insecta     Coleoptera              x   \n",
       "328       Aquatic   Arthropoda: Insecta  Ephemeroptera  Heptageniidae   \n",
       "334       Aquatic   Arthropoda: Insecta  Ephemeroptera  Heptageniidae   \n",
       "343       Aquatic   Arthropoda: Insecta  Ephemeroptera       Baetidae   \n",
       "344       Aquatic   Arthropoda: Insecta  Ephemeroptera       Baetidae   \n",
       "345       Aquatic   Arthropoda: Insecta  Ephemeroptera       Baetidae   \n",
       "355   Terrestrial   Arthropoda: Insecta     Coleoptera              x   \n",
       "2939      Aquatic            Vertebrata              x              x   \n",
       "\n",
       "     Common.name  Length   Abundance     Biomass  \n",
       "320      beetles     6.0   54.137617  245.402187  \n",
       "321      beetles     9.0   54.137617  715.746698  \n",
       "328     mayflies     7.0   54.137617  124.257581  \n",
       "334     mayflies     6.0  108.275234  162.547926  \n",
       "343     mayflies     3.0  920.339493  114.801493  \n",
       "344     mayflies     4.0  812.064258  231.626765  \n",
       "345     mayflies     5.0  595.513789  322.631267  \n",
       "355      beetles     6.0   54.137617  245.402187  \n",
       "2939           x     5.0    4.710205  119.346891  "
      ]
     },
     "execution_count": 66,
     "metadata": {},
     "output_type": "execute_result"
    }
   ],
   "source": [
    "df[df.Biomass > 100]"
   ]
  },
  {
   "cell_type": "markdown",
   "id": "d4fbaf61-e387-41b0-8b9a-eeee04e7ba15",
   "metadata": {},
   "source": [
    "Okay, there's quite a few high values in there.\n",
    "\n",
    "Check out the months where these things were collected:"
   ]
  },
  {
   "cell_type": "code",
   "execution_count": 72,
   "id": "a8043bf5-9865-43e3-8e04-4380c533d776",
   "metadata": {},
   "outputs": [
    {
     "data": {
      "text/plain": [
       "(array([ 4,  5,  6,  7,  8,  9, 10]),\n",
       " array([ 47, 504, 781, 447, 696, 626, 676]))"
      ]
     },
     "execution_count": 72,
     "metadata": {},
     "output_type": "execute_result"
    }
   ],
   "source": [
    "np.unique(pd.to_datetime(df.Date).dt.month, return_counts=True)"
   ]
  },
  {
   "cell_type": "markdown",
   "id": "4243d5cc-8a50-430a-ab96-3b87fe436b97",
   "metadata": {},
   "source": [
    "These values - April through October - make sense if we are talking about stream sampling in Alaska."
   ]
  },
  {
   "cell_type": "markdown",
   "id": "0727b9ca-f6db-47e1-ae19-427effe7ee3b",
   "metadata": {},
   "source": [
    "### CSV: `Age 0 BioE outputs.csv`"
   ]
  },
  {
   "cell_type": "code",
   "execution_count": 119,
   "id": "2666fa08-f29e-4cc5-8bbb-a37009a3e2d7",
   "metadata": {},
   "outputs": [
    {
     "name": "stdout",
     "output_type": "stream",
     "text": [
      "/atlas_scratch/kmredilla/casc_data_mgmt/FitzgeraldCH1_Data_Metadata_Software/Age 0 BioE outputs.csv\n"
     ]
    },
    {
     "data": {
      "text/html": [
       "<div>\n",
       "<style scoped>\n",
       "    .dataframe tbody tr th:only-of-type {\n",
       "        vertical-align: middle;\n",
       "    }\n",
       "\n",
       "    .dataframe tbody tr th {\n",
       "        vertical-align: top;\n",
       "    }\n",
       "\n",
       "    .dataframe thead th {\n",
       "        text-align: right;\n",
       "    }\n",
       "</style>\n",
       "<table border=\"1\" class=\"dataframe\">\n",
       "  <thead>\n",
       "    <tr style=\"text-align: right;\">\n",
       "      <th></th>\n",
       "      <th>Julian Day</th>\n",
       "      <th>fish length[y2013]</th>\n",
       "      <th>fish length[y2014]</th>\n",
       "      <th>fish length[y2015]</th>\n",
       "      <th>fish length[y2016]</th>\n",
       "      <th>fish length[y2017]</th>\n",
       "      <th>fish length[y2018]</th>\n",
       "      <th>fish length[y2019]</th>\n",
       "      <th>fish length[y2020]</th>\n",
       "      <th>fish length[y2021]</th>\n",
       "    </tr>\n",
       "  </thead>\n",
       "  <tbody>\n",
       "    <tr>\n",
       "      <th>0</th>\n",
       "      <td>121</td>\n",
       "      <td>34.760266</td>\n",
       "      <td>34.760266</td>\n",
       "      <td>34.760266</td>\n",
       "      <td>34.760266</td>\n",
       "      <td>34.760266</td>\n",
       "      <td>34.760266</td>\n",
       "      <td>34.760266</td>\n",
       "      <td>34.760266</td>\n",
       "      <td>34.760266</td>\n",
       "    </tr>\n",
       "    <tr>\n",
       "      <th>1</th>\n",
       "      <td>122</td>\n",
       "      <td>34.660238</td>\n",
       "      <td>34.696837</td>\n",
       "      <td>34.685492</td>\n",
       "      <td>34.699956</td>\n",
       "      <td>34.724833</td>\n",
       "      <td>34.668270</td>\n",
       "      <td>34.662895</td>\n",
       "      <td>34.814863</td>\n",
       "      <td>34.730339</td>\n",
       "    </tr>\n",
       "    <tr>\n",
       "      <th>2</th>\n",
       "      <td>123</td>\n",
       "      <td>34.611027</td>\n",
       "      <td>34.647251</td>\n",
       "      <td>34.607097</td>\n",
       "      <td>34.647758</td>\n",
       "      <td>34.691872</td>\n",
       "      <td>34.630304</td>\n",
       "      <td>34.568867</td>\n",
       "      <td>34.870813</td>\n",
       "      <td>34.760343</td>\n",
       "    </tr>\n",
       "    <tr>\n",
       "      <th>3</th>\n",
       "      <td>124</td>\n",
       "      <td>34.611065</td>\n",
       "      <td>34.622492</td>\n",
       "      <td>34.522933</td>\n",
       "      <td>34.636160</td>\n",
       "      <td>34.657482</td>\n",
       "      <td>34.631147</td>\n",
       "      <td>34.492725</td>\n",
       "      <td>34.932709</td>\n",
       "      <td>34.776239</td>\n",
       "    </tr>\n",
       "    <tr>\n",
       "      <th>4</th>\n",
       "      <td>125</td>\n",
       "      <td>34.569224</td>\n",
       "      <td>34.593327</td>\n",
       "      <td>34.432963</td>\n",
       "      <td>34.648083</td>\n",
       "      <td>34.621194</td>\n",
       "      <td>34.564641</td>\n",
       "      <td>34.436255</td>\n",
       "      <td>34.982462</td>\n",
       "      <td>34.787726</td>\n",
       "    </tr>\n",
       "  </tbody>\n",
       "</table>\n",
       "</div>"
      ],
      "text/plain": [
       "   Julian Day  fish length[y2013]  fish length[y2014]  fish length[y2015]  \\\n",
       "0         121           34.760266           34.760266           34.760266   \n",
       "1         122           34.660238           34.696837           34.685492   \n",
       "2         123           34.611027           34.647251           34.607097   \n",
       "3         124           34.611065           34.622492           34.522933   \n",
       "4         125           34.569224           34.593327           34.432963   \n",
       "\n",
       "   fish length[y2016]  fish length[y2017]  fish length[y2018]  \\\n",
       "0           34.760266           34.760266           34.760266   \n",
       "1           34.699956           34.724833           34.668270   \n",
       "2           34.647758           34.691872           34.630304   \n",
       "3           34.636160           34.657482           34.631147   \n",
       "4           34.648083           34.621194           34.564641   \n",
       "\n",
       "   fish length[y2019]  fish length[y2020]  fish length[y2021]  \n",
       "0           34.760266           34.760266           34.760266  \n",
       "1           34.662895           34.814863           34.730339  \n",
       "2           34.568867           34.870813           34.760343  \n",
       "3           34.492725           34.932709           34.776239  \n",
       "4           34.436255           34.982462           34.787726  "
      ]
     },
     "execution_count": 119,
     "metadata": {},
     "output_type": "execute_result"
    }
   ],
   "source": [
    "fp = fps[1]\n",
    "print(fp)\n",
    "df = pd.read_csv(fp)\n",
    "df.head()"
   ]
  },
  {
   "cell_type": "markdown",
   "id": "e6f4130c-7541-4e4e-9404-af841d987389",
   "metadata": {},
   "source": [
    "Check the unique values for all of the non-numeric columns:"
   ]
  },
  {
   "cell_type": "code",
   "execution_count": 120,
   "id": "c3b9da09-1c03-47d8-bf99-fdcb52f3cc05",
   "metadata": {},
   "outputs": [],
   "source": [
    "for column in df.dtypes[df.dtypes == object].index:\n",
    "    print(df[column].unique())"
   ]
  },
  {
   "cell_type": "markdown",
   "id": "e8ebb396-3c4d-4f7c-ad5e-1606e0900448",
   "metadata": {},
   "source": [
    "Okay, no-non-numeric columns.\n",
    "\n",
    "Check out the numeric ones.\n",
    "\n",
    "**`Julian Day`**\n",
    "\n",
    "This column should be values only between 1 and 366:"
   ]
  },
  {
   "cell_type": "code",
   "execution_count": 121,
   "id": "30111f2a-6d5a-465c-b229-8dbe5c15d2ff",
   "metadata": {},
   "outputs": [
    {
     "data": {
      "text/plain": [
       "<AxesSubplot: >"
      ]
     },
     "execution_count": 121,
     "metadata": {},
     "output_type": "execute_result"
    },
    {
     "data": {
      "image/png": "[encoded data removed]",
      "text/plain": [
       "<Figure size 640x480 with 1 Axes>"
      ]
     },
     "metadata": {},
     "output_type": "display_data"
    }
   ],
   "source": [
    "df[\"Julian Day\"].hist()"
   ]
  },
  {
   "cell_type": "markdown",
   "id": "07d9c20c-1223-402b-91e6-e1720bce23ec",
   "metadata": {},
   "source": [
    "Looks like this is true, and the histogram appears reasonable. \n",
    "\n",
    "The remaining columns are all different years of \"fish length\", so we will iterate and produce histograms of those:"
   ]
  },
  {
   "cell_type": "code",
   "execution_count": 122,
   "id": "4f9ac4a8-4528-4566-9fd7-1d60a3346360",
   "metadata": {},
   "outputs": [
    {
     "data": {
      "image/png": "[encoded data removed]",
      "text/plain": [
       "<Figure size 1200x600 with 9 Axes>"
      ]
     },
     "metadata": {},
     "output_type": "display_data"
    }
   ],
   "source": [
    "fig, axs = plt.subplots(2, 5, figsize=(12, 6))\n",
    "\n",
    "for year, ax in zip(range(2013, 2022), axs.flatten()):\n",
    "    df[f'fish length[y{year}]'].hist(alpha=0.5, bins=15, ax=ax)\n",
    "    ax.set_title(f'fish length[y{year}]')\n",
    "\n",
    "fig.delaxes(axs[1][-1])"
   ]
  },
  {
   "cell_type": "markdown",
   "id": "daccd85b-8ca0-44cd-ba62-665d1266c462",
   "metadata": {},
   "source": [
    "These all look reasonable. "
   ]
  },
  {
   "cell_type": "markdown",
   "id": "1823f988-0f15-4bb3-987e-7f300e8391be",
   "metadata": {},
   "source": [
    "### CSV: `Age 1 BioE outputs.csv`"
   ]
  },
  {
   "cell_type": "code",
   "execution_count": 123,
   "id": "c1b7d5ec-4d75-4841-ae14-5998a7e0008e",
   "metadata": {},
   "outputs": [
    {
     "name": "stdout",
     "output_type": "stream",
     "text": [
      "/atlas_scratch/kmredilla/casc_data_mgmt/FitzgeraldCH1_Data_Metadata_Software/Age 1 BioE outputs.csv\n"
     ]
    },
    {
     "data": {
      "text/html": [
       "<div>\n",
       "<style scoped>\n",
       "    .dataframe tbody tr th:only-of-type {\n",
       "        vertical-align: middle;\n",
       "    }\n",
       "\n",
       "    .dataframe tbody tr th {\n",
       "        vertical-align: top;\n",
       "    }\n",
       "\n",
       "    .dataframe thead th {\n",
       "        text-align: right;\n",
       "    }\n",
       "</style>\n",
       "<table border=\"1\" class=\"dataframe\">\n",
       "  <thead>\n",
       "    <tr style=\"text-align: right;\">\n",
       "      <th></th>\n",
       "      <th>Julian Day</th>\n",
       "      <th>maximum length[y2013]</th>\n",
       "      <th>maximum length[y2014]</th>\n",
       "      <th>maximum length[y2015]</th>\n",
       "      <th>maximum length[y2016]</th>\n",
       "      <th>maximum length[y2017]</th>\n",
       "      <th>maximum length[y2018]</th>\n",
       "      <th>maximum length[y2019]</th>\n",
       "      <th>maximum length[y2020]</th>\n",
       "      <th>maximum length[y2021]</th>\n",
       "    </tr>\n",
       "  </thead>\n",
       "  <tbody>\n",
       "    <tr>\n",
       "      <th>0</th>\n",
       "      <td>121</td>\n",
       "      <td>59.533418</td>\n",
       "      <td>59.533418</td>\n",
       "      <td>59.533418</td>\n",
       "      <td>59.533418</td>\n",
       "      <td>59.533418</td>\n",
       "      <td>59.533418</td>\n",
       "      <td>59.533418</td>\n",
       "      <td>59.533418</td>\n",
       "      <td>59.533418</td>\n",
       "    </tr>\n",
       "    <tr>\n",
       "      <th>1</th>\n",
       "      <td>122</td>\n",
       "      <td>59.410327</td>\n",
       "      <td>59.463933</td>\n",
       "      <td>59.447316</td>\n",
       "      <td>59.468502</td>\n",
       "      <td>59.504940</td>\n",
       "      <td>59.422091</td>\n",
       "      <td>59.414219</td>\n",
       "      <td>59.636825</td>\n",
       "      <td>59.513005</td>\n",
       "    </tr>\n",
       "    <tr>\n",
       "      <th>2</th>\n",
       "      <td>123</td>\n",
       "      <td>59.361889</td>\n",
       "      <td>59.414960</td>\n",
       "      <td>59.356136</td>\n",
       "      <td>59.415703</td>\n",
       "      <td>59.480334</td>\n",
       "      <td>59.390128</td>\n",
       "      <td>59.300129</td>\n",
       "      <td>59.742503</td>\n",
       "      <td>59.580645</td>\n",
       "    </tr>\n",
       "    <tr>\n",
       "      <th>3</th>\n",
       "      <td>124</td>\n",
       "      <td>59.385400</td>\n",
       "      <td>59.402149</td>\n",
       "      <td>59.256276</td>\n",
       "      <td>59.422176</td>\n",
       "      <td>59.453431</td>\n",
       "      <td>59.414828</td>\n",
       "      <td>59.212003</td>\n",
       "      <td>59.856732</td>\n",
       "      <td>59.627441</td>\n",
       "    </tr>\n",
       "    <tr>\n",
       "      <th>4</th>\n",
       "      <td>125</td>\n",
       "      <td>59.347301</td>\n",
       "      <td>59.382630</td>\n",
       "      <td>59.147620</td>\n",
       "      <td>59.462868</td>\n",
       "      <td>59.423489</td>\n",
       "      <td>59.340599</td>\n",
       "      <td>59.152419</td>\n",
       "      <td>59.952950</td>\n",
       "      <td>59.667543</td>\n",
       "    </tr>\n",
       "  </tbody>\n",
       "</table>\n",
       "</div>"
      ],
      "text/plain": [
       "   Julian Day  maximum length[y2013]  maximum length[y2014]  \\\n",
       "0         121              59.533418              59.533418   \n",
       "1         122              59.410327              59.463933   \n",
       "2         123              59.361889              59.414960   \n",
       "3         124              59.385400              59.402149   \n",
       "4         125              59.347301              59.382630   \n",
       "\n",
       "   maximum length[y2015]  maximum length[y2016]  maximum length[y2017]  \\\n",
       "0              59.533418              59.533418              59.533418   \n",
       "1              59.447316              59.468502              59.504940   \n",
       "2              59.356136              59.415703              59.480334   \n",
       "3              59.256276              59.422176              59.453431   \n",
       "4              59.147620              59.462868              59.423489   \n",
       "\n",
       "   maximum length[y2018]  maximum length[y2019]  maximum length[y2020]  \\\n",
       "0              59.533418              59.533418              59.533418   \n",
       "1              59.422091              59.414219              59.636825   \n",
       "2              59.390128              59.300129              59.742503   \n",
       "3              59.414828              59.212003              59.856732   \n",
       "4              59.340599              59.152419              59.952950   \n",
       "\n",
       "   maximum length[y2021]  \n",
       "0              59.533418  \n",
       "1              59.513005  \n",
       "2              59.580645  \n",
       "3              59.627441  \n",
       "4              59.667543  "
      ]
     },
     "execution_count": 123,
     "metadata": {},
     "output_type": "execute_result"
    }
   ],
   "source": [
    "fp = fps[2]\n",
    "print(fp)\n",
    "df = pd.read_csv(fp)\n",
    "df.head()"
   ]
  },
  {
   "cell_type": "markdown",
   "id": "f08353b3-035f-4315-b8f7-b85d3974fd52",
   "metadata": {},
   "source": [
    "Check the unique values for all of the non-numeric columns:"
   ]
  },
  {
   "cell_type": "code",
   "execution_count": 124,
   "id": "eec70163-9eaa-4a0c-9781-e778ff5b4928",
   "metadata": {},
   "outputs": [],
   "source": [
    "for column in df.dtypes[df.dtypes == object].index:\n",
    "    print(df[column].unique())"
   ]
  },
  {
   "cell_type": "markdown",
   "id": "6c3f7ccb-35dd-4def-a77c-e08ca3faa78a",
   "metadata": {},
   "source": [
    "Okay, no-non-numeric columns.\n",
    "\n",
    "Check out the numeric ones.\n",
    "\n",
    "**`Julian Day`**\n",
    "\n",
    "This column should be values only between 1 and 366:"
   ]
  },
  {
   "cell_type": "code",
   "execution_count": 125,
   "id": "f25a54d7-545a-4a09-83d1-7c3ba8d7710c",
   "metadata": {},
   "outputs": [
    {
     "data": {
      "text/plain": [
       "<AxesSubplot: >"
      ]
     },
     "execution_count": 125,
     "metadata": {},
     "output_type": "execute_result"
    },
    {
     "data": {
      "image/png": "[encoded data removed]",
      "text/plain": [
       "<Figure size 640x480 with 1 Axes>"
      ]
     },
     "metadata": {},
     "output_type": "display_data"
    }
   ],
   "source": [
    "df[\"Julian Day\"].hist()"
   ]
  },
  {
   "cell_type": "markdown",
   "id": "d851deb8-6585-4df6-b87a-b55622dbc98d",
   "metadata": {},
   "source": [
    "Looks like this is true, and the histogram appears reasonable. \n",
    "\n",
    "The remaining columns are all different years of \"maximum length\", so we will iterate and produce histograms of those:"
   ]
  },
  {
   "cell_type": "code",
   "execution_count": 126,
   "id": "8588aec1-08e6-44a9-bd2e-b281023eb8cf",
   "metadata": {},
   "outputs": [
    {
     "data": {
      "image/png": "[encoded data removed]",
      "text/plain": [
       "<Figure size 1200x600 with 9 Axes>"
      ]
     },
     "metadata": {},
     "output_type": "display_data"
    }
   ],
   "source": [
    "fig, axs = plt.subplots(2, 5, figsize=(12, 6))\n",
    "\n",
    "for year, ax in zip(range(2013, 2022), axs.flatten()):\n",
    "    df[f'maximum length[y{year}]'].hist(alpha=0.5, bins=15, ax=ax)\n",
    "    ax.set_title(f'maximum length[{year}]')\n",
    "\n",
    "fig.delaxes(axs[1][-1])"
   ]
  },
  {
   "cell_type": "markdown",
   "id": "37a74d4b-41eb-4e39-bba4-bdf2c73c62af",
   "metadata": {},
   "source": [
    "These all look reasonable. \n",
    "\n",
    "#### 🚩 Note - should these be the same column names as `Age 0 BioE Outputs.csv`? Judging by the filenames, you would guess them to be the same measurements."
   ]
  },
  {
   "cell_type": "markdown",
   "id": "acdce899-2cac-494b-99f0-a64fa6ce6514",
   "metadata": {},
   "source": [
    "### CSV: `Consumption_by_year.csv`"
   ]
  },
  {
   "cell_type": "code",
   "execution_count": 100,
   "id": "9f9e3f07-2f91-4f97-bece-5a188dac6b18",
   "metadata": {},
   "outputs": [
    {
     "name": "stdout",
     "output_type": "stream",
     "text": [
      "/atlas_scratch/kmredilla/casc_data_mgmt/FitzgeraldCH1_Data_Metadata_Software/Consumption_by_year.csv\n"
     ]
    },
    {
     "data": {
      "text/html": [
       "<div>\n",
       "<style scoped>\n",
       "    .dataframe tbody tr th:only-of-type {\n",
       "        vertical-align: middle;\n",
       "    }\n",
       "\n",
       "    .dataframe tbody tr th {\n",
       "        vertical-align: top;\n",
       "    }\n",
       "\n",
       "    .dataframe thead th {\n",
       "        text-align: right;\n",
       "    }\n",
       "</style>\n",
       "<table border=\"1\" class=\"dataframe\">\n",
       "  <thead>\n",
       "    <tr style=\"text-align: right;\">\n",
       "      <th></th>\n",
       "      <th>Unnamed: 0</th>\n",
       "      <th>2013</th>\n",
       "      <th>2014</th>\n",
       "      <th>2015</th>\n",
       "      <th>2016</th>\n",
       "      <th>2017</th>\n",
       "      <th>2018</th>\n",
       "      <th>2019</th>\n",
       "      <th>2020</th>\n",
       "      <th>2021</th>\n",
       "    </tr>\n",
       "  </thead>\n",
       "  <tbody>\n",
       "    <tr>\n",
       "      <th>0</th>\n",
       "      <td>121</td>\n",
       "      <td>0.001577</td>\n",
       "      <td>0.004502</td>\n",
       "      <td>0.003708</td>\n",
       "      <td>0.004872</td>\n",
       "      <td>0.006694</td>\n",
       "      <td>0.001962</td>\n",
       "      <td>0.001682</td>\n",
       "      <td>0.014566</td>\n",
       "      <td>0.004403</td>\n",
       "    </tr>\n",
       "    <tr>\n",
       "      <th>1</th>\n",
       "      <td>122</td>\n",
       "      <td>0.001605</td>\n",
       "      <td>0.004445</td>\n",
       "      <td>0.003380</td>\n",
       "      <td>0.004492</td>\n",
       "      <td>0.006694</td>\n",
       "      <td>0.002646</td>\n",
       "      <td>0.001986</td>\n",
       "      <td>0.012599</td>\n",
       "      <td>0.011574</td>\n",
       "    </tr>\n",
       "    <tr>\n",
       "      <th>2</th>\n",
       "      <td>123</td>\n",
       "      <td>0.011856</td>\n",
       "      <td>0.007084</td>\n",
       "      <td>0.003079</td>\n",
       "      <td>0.006485</td>\n",
       "      <td>0.006694</td>\n",
       "      <td>0.012384</td>\n",
       "      <td>0.002254</td>\n",
       "      <td>0.014734</td>\n",
       "      <td>0.011223</td>\n",
       "    </tr>\n",
       "    <tr>\n",
       "      <th>3</th>\n",
       "      <td>124</td>\n",
       "      <td>0.005047</td>\n",
       "      <td>0.008049</td>\n",
       "      <td>0.002385</td>\n",
       "      <td>0.011873</td>\n",
       "      <td>0.006694</td>\n",
       "      <td>0.004310</td>\n",
       "      <td>0.005500</td>\n",
       "      <td>0.013214</td>\n",
       "      <td>0.009527</td>\n",
       "    </tr>\n",
       "    <tr>\n",
       "      <th>4</th>\n",
       "      <td>125</td>\n",
       "      <td>0.008181</td>\n",
       "      <td>0.005996</td>\n",
       "      <td>0.002285</td>\n",
       "      <td>0.008497</td>\n",
       "      <td>0.006694</td>\n",
       "      <td>0.004159</td>\n",
       "      <td>0.004318</td>\n",
       "      <td>0.014378</td>\n",
       "      <td>0.012238</td>\n",
       "    </tr>\n",
       "  </tbody>\n",
       "</table>\n",
       "</div>"
      ],
      "text/plain": [
       "   Unnamed: 0      2013      2014      2015      2016      2017      2018  \\\n",
       "0         121  0.001577  0.004502  0.003708  0.004872  0.006694  0.001962   \n",
       "1         122  0.001605  0.004445  0.003380  0.004492  0.006694  0.002646   \n",
       "2         123  0.011856  0.007084  0.003079  0.006485  0.006694  0.012384   \n",
       "3         124  0.005047  0.008049  0.002385  0.011873  0.006694  0.004310   \n",
       "4         125  0.008181  0.005996  0.002285  0.008497  0.006694  0.004159   \n",
       "\n",
       "       2019      2020      2021  \n",
       "0  0.001682  0.014566  0.004403  \n",
       "1  0.001986  0.012599  0.011574  \n",
       "2  0.002254  0.014734  0.011223  \n",
       "3  0.005500  0.013214  0.009527  \n",
       "4  0.004318  0.014378  0.012238  "
      ]
     },
     "execution_count": 100,
     "metadata": {},
     "output_type": "execute_result"
    }
   ],
   "source": [
    "fp = fps[3]\n",
    "print(fp)\n",
    "df = pd.read_csv(fp)\n",
    "df.head()"
   ]
  },
  {
   "cell_type": "markdown",
   "id": "c907881c-4cd1-4e9a-9d8a-d0da4a7b05ed",
   "metadata": {},
   "source": [
    "#### 🚩 Note - unnamed index column in `Consumption_by_year.csv`\n",
    "\n",
    "Since all of these columns are numeric, plot histograms for each:"
   ]
  },
  {
   "cell_type": "code",
   "execution_count": 109,
   "id": "5eefea4a-8003-40fb-9b9e-a435a3638c4a",
   "metadata": {},
   "outputs": [
    {
     "data": {
      "image/png": "[encoded data removed]",
      "text/plain": [
       "<Figure size 1400x600 with 9 Axes>"
      ]
     },
     "metadata": {},
     "output_type": "display_data"
    }
   ],
   "source": [
    "fig, axs = plt.subplots(2, 5, figsize=(14, 6))\n",
    "\n",
    "for year, ax in zip(range(2013, 2022), axs.flatten()):\n",
    "    df[f'{year}'].hist(alpha=0.5, bins=15, ax=ax)\n",
    "    ax.set_title(year)\n",
    "\n",
    "fig.delaxes(axs[1][-1])"
   ]
  },
  {
   "cell_type": "markdown",
   "id": "11dc9724-fa7e-4e8c-9be6-048165351ae2",
   "metadata": {
    "tags": []
   },
   "source": [
    "These all seem reasonable.\n",
    "\n",
    "### CSV: Consumption_Model_Inputs.csv"
   ]
  },
  {
   "cell_type": "code",
   "execution_count": 128,
   "id": "2c868983-0390-49c6-86ca-8d9e97e5ea71",
   "metadata": {},
   "outputs": [
    {
     "name": "stdout",
     "output_type": "stream",
     "text": [
      "/atlas_scratch/kmredilla/casc_data_mgmt/FitzgeraldCH1_Data_Metadata_Software/Consumption_Model_Inputs.csv\n"
     ]
    },
    {
     "data": {
      "text/html": [
       "<div>\n",
       "<style scoped>\n",
       "    .dataframe tbody tr th:only-of-type {\n",
       "        vertical-align: middle;\n",
       "    }\n",
       "\n",
       "    .dataframe tbody tr th {\n",
       "        vertical-align: top;\n",
       "    }\n",
       "\n",
       "    .dataframe thead th {\n",
       "        text-align: right;\n",
       "    }\n",
       "</style>\n",
       "<table border=\"1\" class=\"dataframe\">\n",
       "  <thead>\n",
       "    <tr style=\"text-align: right;\">\n",
       "      <th></th>\n",
       "      <th>Date</th>\n",
       "      <th>Day of year</th>\n",
       "      <th>Temperature</th>\n",
       "      <th>pred (mg AFDM)</th>\n",
       "      <th>se.fit</th>\n",
       "      <th>flow</th>\n",
       "      <th>fitted (mg AFDM)</th>\n",
       "      <th>consumption (g AFDM)</th>\n",
       "      <th>Modeled pcmax</th>\n",
       "      <th>lower</th>\n",
       "      <th>upper</th>\n",
       "      <th>Unnamed: 11</th>\n",
       "      <th>Unnamed: 12</th>\n",
       "      <th>Average Temp (C)</th>\n",
       "      <th>6.47</th>\n",
       "      <th>Unnamed: 15</th>\n",
       "    </tr>\n",
       "  </thead>\n",
       "  <tbody>\n",
       "    <tr>\n",
       "      <th>0</th>\n",
       "      <td>5/1/2021</td>\n",
       "      <td>121</td>\n",
       "      <td>1.784094</td>\n",
       "      <td>1.482382</td>\n",
       "      <td>0.235482</td>\n",
       "      <td>1.980962</td>\n",
       "      <td>4.403423</td>\n",
       "      <td>0.004403</td>\n",
       "      <td>0.053824</td>\n",
       "      <td>2.775516</td>\n",
       "      <td>6.986138</td>\n",
       "      <td>0.014739</td>\n",
       "      <td>NaN</td>\n",
       "      <td>Average Mass (g Wetmass)</td>\n",
       "      <td>4.756480</td>\n",
       "      <td>78.06mm</td>\n",
       "    </tr>\n",
       "    <tr>\n",
       "      <th>1</th>\n",
       "      <td>5/2/2021</td>\n",
       "      <td>122</td>\n",
       "      <td>2.042104</td>\n",
       "      <td>2.448771</td>\n",
       "      <td>0.212713</td>\n",
       "      <td>1.283815</td>\n",
       "      <td>11.574114</td>\n",
       "      <td>0.011574</td>\n",
       "      <td>0.141473</td>\n",
       "      <td>7.628216</td>\n",
       "      <td>17.561132</td>\n",
       "      <td>0.180156</td>\n",
       "      <td>NaN</td>\n",
       "      <td>Modeled Cmax</td>\n",
       "      <td>0.086000</td>\n",
       "      <td>NaN</td>\n",
       "    </tr>\n",
       "    <tr>\n",
       "      <th>2</th>\n",
       "      <td>5/3/2021</td>\n",
       "      <td>123</td>\n",
       "      <td>2.116031</td>\n",
       "      <td>2.417958</td>\n",
       "      <td>0.155416</td>\n",
       "      <td>0.765018</td>\n",
       "      <td>11.222914</td>\n",
       "      <td>0.011223</td>\n",
       "      <td>0.137180</td>\n",
       "      <td>8.275860</td>\n",
       "      <td>15.219422</td>\n",
       "      <td>NaN</td>\n",
       "      <td>NaN</td>\n",
       "      <td>Max Consumption (g wetmass)</td>\n",
       "      <td>0.409057</td>\n",
       "      <td>NaN</td>\n",
       "    </tr>\n",
       "    <tr>\n",
       "      <th>3</th>\n",
       "      <td>5/4/2021</td>\n",
       "      <td>124</td>\n",
       "      <td>1.688771</td>\n",
       "      <td>2.254107</td>\n",
       "      <td>0.135248</td>\n",
       "      <td>0.700677</td>\n",
       "      <td>9.526782</td>\n",
       "      <td>0.009527</td>\n",
       "      <td>0.116448</td>\n",
       "      <td>7.308375</td>\n",
       "      <td>12.418572</td>\n",
       "      <td>NaN</td>\n",
       "      <td>NaN</td>\n",
       "      <td>Max Consumption (g AFDM)</td>\n",
       "      <td>0.081811</td>\n",
       "      <td>NaN</td>\n",
       "    </tr>\n",
       "    <tr>\n",
       "      <th>4</th>\n",
       "      <td>5/5/2021</td>\n",
       "      <td>125</td>\n",
       "      <td>1.993208</td>\n",
       "      <td>2.504542</td>\n",
       "      <td>0.214660</td>\n",
       "      <td>1.245740</td>\n",
       "      <td>12.237958</td>\n",
       "      <td>0.012238</td>\n",
       "      <td>0.149587</td>\n",
       "      <td>8.035009</td>\n",
       "      <td>18.639382</td>\n",
       "      <td>NaN</td>\n",
       "      <td>NaN</td>\n",
       "      <td>Modeled Stomach Fullness</td>\n",
       "      <td>0.017200</td>\n",
       "      <td>NaN</td>\n",
       "    </tr>\n",
       "  </tbody>\n",
       "</table>\n",
       "</div>"
      ],
      "text/plain": [
       "       Date  Day of year  Temperature  pred (mg AFDM)    se.fit      flow  \\\n",
       "0  5/1/2021          121     1.784094        1.482382  0.235482  1.980962   \n",
       "1  5/2/2021          122     2.042104        2.448771  0.212713  1.283815   \n",
       "2  5/3/2021          123     2.116031        2.417958  0.155416  0.765018   \n",
       "3  5/4/2021          124     1.688771        2.254107  0.135248  0.700677   \n",
       "4  5/5/2021          125     1.993208        2.504542  0.214660  1.245740   \n",
       "\n",
       "   fitted (mg AFDM)  consumption (g AFDM)  Modeled pcmax     lower      upper  \\\n",
       "0          4.403423              0.004403       0.053824  2.775516   6.986138   \n",
       "1         11.574114              0.011574       0.141473  7.628216  17.561132   \n",
       "2         11.222914              0.011223       0.137180  8.275860  15.219422   \n",
       "3          9.526782              0.009527       0.116448  7.308375  12.418572   \n",
       "4         12.237958              0.012238       0.149587  8.035009  18.639382   \n",
       "\n",
       "   Unnamed: 11  Unnamed: 12             Average Temp (C)      6.47 Unnamed: 15  \n",
       "0     0.014739          NaN     Average Mass (g Wetmass)  4.756480     78.06mm  \n",
       "1     0.180156          NaN                 Modeled Cmax  0.086000         NaN  \n",
       "2          NaN          NaN  Max Consumption (g wetmass)  0.409057         NaN  \n",
       "3          NaN          NaN     Max Consumption (g AFDM)  0.081811         NaN  \n",
       "4          NaN          NaN     Modeled Stomach Fullness  0.017200         NaN  "
      ]
     },
     "execution_count": 128,
     "metadata": {},
     "output_type": "execute_result"
    }
   ],
   "source": [
    "fp = fps[4]\n",
    "print(fp)\n",
    "df = pd.read_csv(fp)\n",
    "df.head()"
   ]
  },
  {
   "cell_type": "markdown",
   "id": "3bfc4c41-58f6-478b-95f5-bbbe87629b21",
   "metadata": {},
   "source": [
    "#### 🚩 Note - three unnamed columns in this file, appearing to be mostly null values. Also, weirdness in \"Average Temp (C)\" column, potentially related to unnamed columns issue.\n",
    "\n",
    "Explore the non-numeric columns:"
   ]
  },
  {
   "cell_type": "code",
   "execution_count": 129,
   "id": "79c9ed0e-2b5f-465a-96e3-2e196964ded9",
   "metadata": {},
   "outputs": [
    {
     "name": "stdout",
     "output_type": "stream",
     "text": [
      "['5/1/2021' '5/2/2021' '5/3/2021' '5/4/2021' '5/5/2021' '5/6/2021'\n",
      " '5/7/2021' '5/8/2021' '5/9/2021' '5/10/2021' '5/11/2021' '5/12/2021'\n",
      " '5/13/2021' '5/14/2021' '5/15/2021' '5/16/2021' '5/17/2021' '5/18/2021'\n",
      " '5/19/2021' '5/20/2021' '5/21/2021' '5/22/2021' '5/23/2021' '5/24/2021'\n",
      " '5/25/2021' '5/26/2021' '5/27/2021' '5/28/2021' '5/29/2021' '5/30/2021'\n",
      " '5/31/2021' '6/1/2021' '6/2/2021' '6/3/2021' '6/4/2021' '6/5/2021'\n",
      " '6/6/2021' '6/7/2021' '6/8/2021' '6/9/2021' '6/10/2021' '6/11/2021'\n",
      " '6/12/2021' '6/13/2021' '6/14/2021' '6/15/2021' '6/16/2021' '6/17/2021'\n",
      " '6/18/2021' '6/19/2021' '6/20/2021' '6/21/2021' '6/22/2021' '6/23/2021'\n",
      " '6/24/2021' '6/25/2021' '6/26/2021' '6/27/2021' '6/28/2021' '6/29/2021'\n",
      " '6/30/2021' '7/1/2021' '7/2/2021' '7/3/2021' '7/4/2021' '7/5/2021'\n",
      " '7/6/2021' '7/7/2021' '7/8/2021' '7/9/2021' '7/10/2021' '7/11/2021'\n",
      " '7/12/2021' '7/13/2021' '7/14/2021' '7/15/2021' '7/16/2021' '7/17/2021'\n",
      " '7/18/2021' '7/19/2021' '7/20/2021' '7/21/2021' '7/22/2021' '7/23/2021'\n",
      " '7/24/2021' '7/25/2021' '7/26/2021' '7/27/2021' '7/28/2021' '7/29/2021'\n",
      " '7/30/2021' '7/31/2021' '8/1/2021' '8/2/2021' '8/3/2021' '8/4/2021'\n",
      " '8/5/2021' '8/6/2021' '8/7/2021' '8/8/2021' '8/9/2021' '8/10/2021'\n",
      " '8/11/2021' '8/12/2021' '8/13/2021' '8/14/2021' '8/15/2021' '8/16/2021'\n",
      " '8/17/2021' '8/18/2021' '8/19/2021' '8/20/2021' '8/21/2021' '8/22/2021'\n",
      " '8/23/2021' '8/24/2021' '8/25/2021' '8/26/2021' '8/27/2021' '8/28/2021'\n",
      " '8/29/2021' '8/30/2021' '8/31/2021' '9/1/2021' '9/2/2021' '9/3/2021'\n",
      " '9/4/2021' '9/5/2021' '9/6/2021' '9/7/2021' '9/8/2021' '9/9/2021'\n",
      " '9/10/2021' '9/11/2021' '9/12/2021' '9/13/2021' '9/14/2021' '9/15/2021'\n",
      " '9/16/2021' '9/17/2021' '9/18/2021' '9/19/2021' '9/20/2021' '9/21/2021'\n",
      " '9/22/2021' '9/23/2021' '9/24/2021' '9/25/2021' '9/26/2021' '9/27/2021'\n",
      " '9/28/2021' '9/29/2021' '9/30/2021' '10/1/2021' '10/2/2021' '10/3/2021'\n",
      " '10/4/2021' '10/5/2021' '10/6/2021' '10/7/2021' '10/8/2021' '10/9/2021'\n",
      " '10/10/2021' '10/11/2021' '10/12/2021' '10/13/2021' '10/14/2021'\n",
      " '10/15/2021' '10/16/2021' '10/17/2021' '10/18/2021' '10/19/2021'\n",
      " '10/20/2021' '10/21/2021' '10/22/2021' '10/23/2021' '10/24/2021'\n",
      " '10/25/2021' '10/26/2021' '10/27/2021' '10/28/2021' '10/29/2021'\n",
      " '10/30/2021' '10/31/2021']\n",
      "['Average Mass (g Wetmass)' 'Modeled Cmax' 'Max Consumption (g wetmass)'\n",
      " 'Max Consumption (g AFDM)' 'Modeled Stomach Fullness'\n",
      " 'Initial Age 0 mass' 'Initial Age 1 mass' nan]\n",
      "['78.06mm' nan '35mm on June 14' '59.5mm on May 5']\n"
     ]
    }
   ],
   "source": [
    "for column in df.dtypes[df.dtypes == object].index:\n",
    "    print(df[column].unique())"
   ]
  },
  {
   "cell_type": "markdown",
   "id": "5855cf3c-c976-4cd5-a0d6-3908461be444",
   "metadata": {},
   "source": [
    "It appears this table might be a bit botched? e.g. the \"Average Temp (C) column\" has values that are kind of similar to some of the actual columns, and those values don't show up in much else of the column."
   ]
  },
  {
   "cell_type": "markdown",
   "id": "d336f50f-2e22-4d41-a7df-8a71b755e945",
   "metadata": {
    "tags": []
   },
   "source": [
    "### CSV: McGinnis 2021 15 min (1) (1).csv"
   ]
  },
  {
   "cell_type": "code",
   "execution_count": 130,
   "id": "82c4591a-7e13-41ce-91f2-920973bfb351",
   "metadata": {},
   "outputs": [
    {
     "name": "stdout",
     "output_type": "stream",
     "text": [
      "/atlas_scratch/kmredilla/casc_data_mgmt/FitzgeraldCH1_Data_Metadata_Software/Montana abv. McGinnis 2021 15 min (1) (1).csv\n"
     ]
    },
    {
     "data": {
      "text/html": [
       "<div>\n",
       "<style scoped>\n",
       "    .dataframe tbody tr th:only-of-type {\n",
       "        vertical-align: middle;\n",
       "    }\n",
       "\n",
       "    .dataframe tbody tr th {\n",
       "        vertical-align: top;\n",
       "    }\n",
       "\n",
       "    .dataframe thead th {\n",
       "        text-align: right;\n",
       "    }\n",
       "</style>\n",
       "<table border=\"1\" class=\"dataframe\">\n",
       "  <thead>\n",
       "    <tr style=\"text-align: right;\">\n",
       "      <th></th>\n",
       "      <th>Date-Time</th>\n",
       "      <th>Discharge</th>\n",
       "    </tr>\n",
       "  </thead>\n",
       "  <tbody>\n",
       "    <tr>\n",
       "      <th>0</th>\n",
       "      <td>4/27/2021 14:30</td>\n",
       "      <td>0.996839</td>\n",
       "    </tr>\n",
       "    <tr>\n",
       "      <th>1</th>\n",
       "      <td>4/27/2021 14:45</td>\n",
       "      <td>0.809409</td>\n",
       "    </tr>\n",
       "    <tr>\n",
       "      <th>2</th>\n",
       "      <td>4/27/2021 15:00</td>\n",
       "      <td>0.815721</td>\n",
       "    </tr>\n",
       "    <tr>\n",
       "      <th>3</th>\n",
       "      <td>4/27/2021 15:15</td>\n",
       "      <td>1.018252</td>\n",
       "    </tr>\n",
       "    <tr>\n",
       "      <th>4</th>\n",
       "      <td>4/27/2021 15:30</td>\n",
       "      <td>1.054518</td>\n",
       "    </tr>\n",
       "  </tbody>\n",
       "</table>\n",
       "</div>"
      ],
      "text/plain": [
       "         Date-Time  Discharge\n",
       "0  4/27/2021 14:30   0.996839\n",
       "1  4/27/2021 14:45   0.809409\n",
       "2  4/27/2021 15:00   0.815721\n",
       "3  4/27/2021 15:15   1.018252\n",
       "4  4/27/2021 15:30   1.054518"
      ]
     },
     "execution_count": 130,
     "metadata": {},
     "output_type": "execute_result"
    }
   ],
   "source": [
    "fp = fps[5]\n",
    "print(fp)\n",
    "df = pd.read_csv(fp)\n",
    "df.head()"
   ]
  },
  {
   "cell_type": "markdown",
   "id": "5a4e9704-7979-4c63-858b-3eb0d6c32dd4",
   "metadata": {},
   "source": [
    "Try parsing `Date-Time` column to a datetime object:"
   ]
  },
  {
   "cell_type": "code",
   "execution_count": 137,
   "id": "545a9cf7-e719-4ce9-bd03-e4badee5440c",
   "metadata": {},
   "outputs": [],
   "source": [
    "df[\"Date-Time\"] = pd.to_datetime(df[\"Date-Time\"])"
   ]
  },
  {
   "cell_type": "markdown",
   "id": "41b6607c-c0df-470b-82a7-ea913143b094",
   "metadata": {},
   "source": [
    "That it worked without error is a good check that the values are valid. Now check the distribution:"
   ]
  },
  {
   "cell_type": "code",
   "execution_count": 138,
   "id": "164590e7-ed26-48d8-99f1-d32ab3e9fee6",
   "metadata": {},
   "outputs": [
    {
     "data": {
      "text/plain": [
       "<AxesSubplot: >"
      ]
     },
     "execution_count": 138,
     "metadata": {},
     "output_type": "execute_result"
    },
    {
     "data": {
      "image/png": "[encoded data removed]",
      "text/plain": [
       "<Figure size 640x480 with 1 Axes>"
      ]
     },
     "metadata": {},
     "output_type": "display_data"
    }
   ],
   "source": [
    "df[\"Date-Time\"].hist()"
   ]
  },
  {
   "cell_type": "markdown",
   "id": "33f16884-2848-428c-930d-330ce314f212",
   "metadata": {},
   "source": [
    "Good. Now check the this for the `Discharge` column:"
   ]
  },
  {
   "cell_type": "code",
   "execution_count": 139,
   "id": "893e0e53-dc03-4b41-9dfc-78a0b763c694",
   "metadata": {},
   "outputs": [
    {
     "data": {
      "text/plain": [
       "<AxesSubplot: >"
      ]
     },
     "execution_count": 139,
     "metadata": {},
     "output_type": "execute_result"
    },
    {
     "data": {
      "image/png": "[encoded data removed]",
      "text/plain": [
       "<Figure size 640x480 with 1 Axes>"
      ]
     },
     "metadata": {},
     "output_type": "display_data"
    }
   ],
   "source": [
    "df.Discharge.hist()"
   ]
  },
  {
   "cell_type": "markdown",
   "id": "97ce36b6-4b37-4a23-8c43-05da9e729dd5",
   "metadata": {},
   "source": [
    "Seems OK, but potential outlier alert, so check to see if we have more than one observation above like, 20:"
   ]
  },
  {
   "cell_type": "code",
   "execution_count": 140,
   "id": "1a2ea423-2031-4a21-a8e8-9350cf62c45d",
   "metadata": {},
   "outputs": [
    {
     "data": {
      "text/html": [
       "<div>\n",
       "<style scoped>\n",
       "    .dataframe tbody tr th:only-of-type {\n",
       "        vertical-align: middle;\n",
       "    }\n",
       "\n",
       "    .dataframe tbody tr th {\n",
       "        vertical-align: top;\n",
       "    }\n",
       "\n",
       "    .dataframe thead th {\n",
       "        text-align: right;\n",
       "    }\n",
       "</style>\n",
       "<table border=\"1\" class=\"dataframe\">\n",
       "  <thead>\n",
       "    <tr style=\"text-align: right;\">\n",
       "      <th></th>\n",
       "      <th>Date-Time</th>\n",
       "      <th>Discharge</th>\n",
       "    </tr>\n",
       "  </thead>\n",
       "  <tbody>\n",
       "    <tr>\n",
       "      <th>10332</th>\n",
       "      <td>2021-08-13 05:45:00</td>\n",
       "      <td>22.080373</td>\n",
       "    </tr>\n",
       "    <tr>\n",
       "      <th>10342</th>\n",
       "      <td>2021-08-13 08:15:00</td>\n",
       "      <td>20.308974</td>\n",
       "    </tr>\n",
       "    <tr>\n",
       "      <th>10344</th>\n",
       "      <td>2021-08-13 08:45:00</td>\n",
       "      <td>25.792583</td>\n",
       "    </tr>\n",
       "    <tr>\n",
       "      <th>10348</th>\n",
       "      <td>2021-08-13 09:45:00</td>\n",
       "      <td>25.494741</td>\n",
       "    </tr>\n",
       "    <tr>\n",
       "      <th>10350</th>\n",
       "      <td>2021-08-13 10:15:00</td>\n",
       "      <td>22.721373</td>\n",
       "    </tr>\n",
       "    <tr>\n",
       "      <th>10351</th>\n",
       "      <td>2021-08-13 10:30:00</td>\n",
       "      <td>30.953698</td>\n",
       "    </tr>\n",
       "    <tr>\n",
       "      <th>10352</th>\n",
       "      <td>2021-08-13 10:45:00</td>\n",
       "      <td>27.158554</td>\n",
       "    </tr>\n",
       "    <tr>\n",
       "      <th>10353</th>\n",
       "      <td>2021-08-13 11:00:00</td>\n",
       "      <td>20.395447</td>\n",
       "    </tr>\n",
       "    <tr>\n",
       "      <th>10354</th>\n",
       "      <td>2021-08-13 11:15:00</td>\n",
       "      <td>20.265820</td>\n",
       "    </tr>\n",
       "    <tr>\n",
       "      <th>18688</th>\n",
       "      <td>2021-11-08 07:30:00</td>\n",
       "      <td>33.107819</td>\n",
       "    </tr>\n",
       "    <tr>\n",
       "      <th>18698</th>\n",
       "      <td>2021-11-08 10:00:00</td>\n",
       "      <td>54.970197</td>\n",
       "    </tr>\n",
       "    <tr>\n",
       "      <th>18699</th>\n",
       "      <td>2021-11-08 10:15:00</td>\n",
       "      <td>43.896234</td>\n",
       "    </tr>\n",
       "    <tr>\n",
       "      <th>18700</th>\n",
       "      <td>2021-11-08 10:30:00</td>\n",
       "      <td>25.100830</td>\n",
       "    </tr>\n",
       "    <tr>\n",
       "      <th>18722</th>\n",
       "      <td>2021-11-08 16:00:00</td>\n",
       "      <td>29.637603</td>\n",
       "    </tr>\n",
       "    <tr>\n",
       "      <th>18723</th>\n",
       "      <td>2021-11-08 16:15:00</td>\n",
       "      <td>47.255595</td>\n",
       "    </tr>\n",
       "    <tr>\n",
       "      <th>18756</th>\n",
       "      <td>2021-11-09 00:30:00</td>\n",
       "      <td>62.881577</td>\n",
       "    </tr>\n",
       "    <tr>\n",
       "      <th>18757</th>\n",
       "      <td>2021-11-09 00:45:00</td>\n",
       "      <td>59.050535</td>\n",
       "    </tr>\n",
       "    <tr>\n",
       "      <th>18758</th>\n",
       "      <td>2021-11-09 01:00:00</td>\n",
       "      <td>50.614872</td>\n",
       "    </tr>\n",
       "    <tr>\n",
       "      <th>18759</th>\n",
       "      <td>2021-11-09 01:15:00</td>\n",
       "      <td>42.876675</td>\n",
       "    </tr>\n",
       "    <tr>\n",
       "      <th>18760</th>\n",
       "      <td>2021-11-09 01:30:00</td>\n",
       "      <td>37.991867</td>\n",
       "    </tr>\n",
       "    <tr>\n",
       "      <th>18761</th>\n",
       "      <td>2021-11-09 01:45:00</td>\n",
       "      <td>30.291379</td>\n",
       "    </tr>\n",
       "    <tr>\n",
       "      <th>18762</th>\n",
       "      <td>2021-11-09 02:00:00</td>\n",
       "      <td>26.800364</td>\n",
       "    </tr>\n",
       "    <tr>\n",
       "      <th>18763</th>\n",
       "      <td>2021-11-09 02:15:00</td>\n",
       "      <td>21.854097</td>\n",
       "    </tr>\n",
       "  </tbody>\n",
       "</table>\n",
       "</div>"
      ],
      "text/plain": [
       "                Date-Time  Discharge\n",
       "10332 2021-08-13 05:45:00  22.080373\n",
       "10342 2021-08-13 08:15:00  20.308974\n",
       "10344 2021-08-13 08:45:00  25.792583\n",
       "10348 2021-08-13 09:45:00  25.494741\n",
       "10350 2021-08-13 10:15:00  22.721373\n",
       "10351 2021-08-13 10:30:00  30.953698\n",
       "10352 2021-08-13 10:45:00  27.158554\n",
       "10353 2021-08-13 11:00:00  20.395447\n",
       "10354 2021-08-13 11:15:00  20.265820\n",
       "18688 2021-11-08 07:30:00  33.107819\n",
       "18698 2021-11-08 10:00:00  54.970197\n",
       "18699 2021-11-08 10:15:00  43.896234\n",
       "18700 2021-11-08 10:30:00  25.100830\n",
       "18722 2021-11-08 16:00:00  29.637603\n",
       "18723 2021-11-08 16:15:00  47.255595\n",
       "18756 2021-11-09 00:30:00  62.881577\n",
       "18757 2021-11-09 00:45:00  59.050535\n",
       "18758 2021-11-09 01:00:00  50.614872\n",
       "18759 2021-11-09 01:15:00  42.876675\n",
       "18760 2021-11-09 01:30:00  37.991867\n",
       "18761 2021-11-09 01:45:00  30.291379\n",
       "18762 2021-11-09 02:00:00  26.800364\n",
       "18763 2021-11-09 02:15:00  21.854097"
      ]
     },
     "execution_count": 140,
     "metadata": {},
     "output_type": "execute_result"
    }
   ],
   "source": [
    "df[df.Discharge > 20] "
   ]
  },
  {
   "cell_type": "markdown",
   "id": "da2e1808-63af-41ba-8422-a53be2e08d6f",
   "metadata": {},
   "source": [
    "Okay these seem OK.\n",
    "\n",
    "### CSV: MT Creek Pressure Trans Temp Data (1).csv"
   ]
  },
  {
   "cell_type": "code",
   "execution_count": 141,
   "id": "e61538de-b54f-4bc3-af12-49ab61d69827",
   "metadata": {},
   "outputs": [
    {
     "name": "stdout",
     "output_type": "stream",
     "text": [
      "/atlas_scratch/kmredilla/casc_data_mgmt/FitzgeraldCH1_Data_Metadata_Software/MT Creek Pressure Trans Temp Data (1).csv\n"
     ]
    },
    {
     "data": {
      "text/html": [
       "<div>\n",
       "<style scoped>\n",
       "    .dataframe tbody tr th:only-of-type {\n",
       "        vertical-align: middle;\n",
       "    }\n",
       "\n",
       "    .dataframe tbody tr th {\n",
       "        vertical-align: top;\n",
       "    }\n",
       "\n",
       "    .dataframe thead th {\n",
       "        text-align: right;\n",
       "    }\n",
       "</style>\n",
       "<table border=\"1\" class=\"dataframe\">\n",
       "  <thead>\n",
       "    <tr style=\"text-align: right;\">\n",
       "      <th></th>\n",
       "      <th>Date Time</th>\n",
       "      <th>Temperature</th>\n",
       "    </tr>\n",
       "  </thead>\n",
       "  <tbody>\n",
       "    <tr>\n",
       "      <th>0</th>\n",
       "      <td>4/27/2021 14:30</td>\n",
       "      <td>2.071</td>\n",
       "    </tr>\n",
       "    <tr>\n",
       "      <th>1</th>\n",
       "      <td>4/27/2021 14:45</td>\n",
       "      <td>2.058</td>\n",
       "    </tr>\n",
       "    <tr>\n",
       "      <th>2</th>\n",
       "      <td>4/27/2021 15:00</td>\n",
       "      <td>2.064</td>\n",
       "    </tr>\n",
       "    <tr>\n",
       "      <th>3</th>\n",
       "      <td>4/27/2021 15:15</td>\n",
       "      <td>2.097</td>\n",
       "    </tr>\n",
       "    <tr>\n",
       "      <th>4</th>\n",
       "      <td>4/27/2021 15:30</td>\n",
       "      <td>2.079</td>\n",
       "    </tr>\n",
       "  </tbody>\n",
       "</table>\n",
       "</div>"
      ],
      "text/plain": [
       "         Date Time  Temperature\n",
       "0  4/27/2021 14:30        2.071\n",
       "1  4/27/2021 14:45        2.058\n",
       "2  4/27/2021 15:00        2.064\n",
       "3  4/27/2021 15:15        2.097\n",
       "4  4/27/2021 15:30        2.079"
      ]
     },
     "execution_count": 141,
     "metadata": {},
     "output_type": "execute_result"
    }
   ],
   "source": [
    "fp = fps[6]\n",
    "print(fp)\n",
    "df = pd.read_csv(fp)\n",
    "df.head()"
   ]
  },
  {
   "cell_type": "markdown",
   "id": "2a1973a1-e087-45fa-bd49-1a1038265210",
   "metadata": {},
   "source": [
    "Try parsing `Date Time` column to a datetime object:\n",
    "\n",
    "#### 🚩 Note - try to be consistent with column names between files, e.g. stick with either `Date-Time` or `Date Time`."
   ]
  },
  {
   "cell_type": "code",
   "execution_count": 142,
   "id": "bd7ed061-81e0-4525-b9a3-e18c4887e99b",
   "metadata": {},
   "outputs": [],
   "source": [
    "df[\"Date Time\"] = pd.to_datetime(df[\"Date Time\"])"
   ]
  },
  {
   "cell_type": "markdown",
   "id": "19bae0bb-4dbf-4e48-8725-8044349af402",
   "metadata": {},
   "source": [
    "That it worked without error is a good check that the values are valid. Now check the distribution:"
   ]
  },
  {
   "cell_type": "code",
   "execution_count": 144,
   "id": "1d1bbdbe-e902-4c8e-94c5-81e11336b727",
   "metadata": {},
   "outputs": [
    {
     "data": {
      "text/plain": [
       "<AxesSubplot: >"
      ]
     },
     "execution_count": 144,
     "metadata": {},
     "output_type": "execute_result"
    },
    {
     "data": {
      "image/png": "[encoded data removed]",
      "text/plain": [
       "<Figure size 640x480 with 1 Axes>"
      ]
     },
     "metadata": {},
     "output_type": "display_data"
    }
   ],
   "source": [
    "df[\"Date Time\"].hist()"
   ]
  },
  {
   "cell_type": "markdown",
   "id": "4465e25e-d0bb-498e-8df8-0ea44f02b331",
   "metadata": {},
   "source": [
    "Good. Now check the this for the `Discharge` column:"
   ]
  },
  {
   "cell_type": "code",
   "execution_count": 145,
   "id": "ecfff566-c306-43c7-9a69-782baa4b556f",
   "metadata": {},
   "outputs": [
    {
     "data": {
      "text/plain": [
       "<AxesSubplot: >"
      ]
     },
     "execution_count": 145,
     "metadata": {},
     "output_type": "execute_result"
    },
    {
     "data": {
      "image/png": "[encoded data removed]",
      "text/plain": [
       "<Figure size 640x480 with 1 Axes>"
      ]
     },
     "metadata": {},
     "output_type": "display_data"
    }
   ],
   "source": [
    "df.Temperature.hist()"
   ]
  },
  {
   "cell_type": "markdown",
   "id": "01de599b-04bb-41cd-b061-701c1f6cabf7",
   "metadata": {},
   "source": [
    "Checks out.\n",
    "\n",
    "#### 🚩 Note - are the datetimes the same on these last two CSVs? Could consider combining them, if they are from the same instrument?\n",
    "\n",
    "### CSV: Raw Coho Diet Data Final (1).csv"
   ]
  },
  {
   "cell_type": "code",
   "execution_count": 146,
   "id": "562d7781-6aed-4604-a8bf-a910a7046065",
   "metadata": {},
   "outputs": [
    {
     "name": "stdout",
     "output_type": "stream",
     "text": [
      "/atlas_scratch/kmredilla/casc_data_mgmt/FitzgeraldCH1_Data_Metadata_Software/Raw Coho Diet Data Final (1).csv\n"
     ]
    },
    {
     "data": {
      "text/html": [
       "<div>\n",
       "<style scoped>\n",
       "    .dataframe tbody tr th:only-of-type {\n",
       "        vertical-align: middle;\n",
       "    }\n",
       "\n",
       "    .dataframe tbody tr th {\n",
       "        vertical-align: top;\n",
       "    }\n",
       "\n",
       "    .dataframe thead th {\n",
       "        text-align: right;\n",
       "    }\n",
       "</style>\n",
       "<table border=\"1\" class=\"dataframe\">\n",
       "  <thead>\n",
       "    <tr style=\"text-align: right;\">\n",
       "      <th></th>\n",
       "      <th>Waterbody</th>\n",
       "      <th>Habitat</th>\n",
       "      <th>Fish.species</th>\n",
       "      <th>Sample.code</th>\n",
       "      <th>Date</th>\n",
       "      <th>Taxon</th>\n",
       "      <th>Stage</th>\n",
       "      <th>Insect</th>\n",
       "      <th>Origin</th>\n",
       "      <th>Higher.classification</th>\n",
       "      <th>Order</th>\n",
       "      <th>Family</th>\n",
       "      <th>Common.name</th>\n",
       "      <th>Length</th>\n",
       "      <th>Abundance</th>\n",
       "      <th>Biomass</th>\n",
       "    </tr>\n",
       "  </thead>\n",
       "  <tbody>\n",
       "    <tr>\n",
       "      <th>0</th>\n",
       "      <td>Montana Creek</td>\n",
       "      <td>Mainstem</td>\n",
       "      <td>Coho</td>\n",
       "      <td>#5</td>\n",
       "      <td>2021-05-05</td>\n",
       "      <td>Chironomidae</td>\n",
       "      <td>L</td>\n",
       "      <td>insect</td>\n",
       "      <td>Aquatic</td>\n",
       "      <td>Arthropoda: Insecta</td>\n",
       "      <td>Diptera</td>\n",
       "      <td>Chironomidae</td>\n",
       "      <td>midges</td>\n",
       "      <td>5.0</td>\n",
       "      <td>1</td>\n",
       "      <td>0.121472</td>\n",
       "    </tr>\n",
       "    <tr>\n",
       "      <th>1</th>\n",
       "      <td>Montana Creek</td>\n",
       "      <td>Mainstem/Side Channel</td>\n",
       "      <td>Coho</td>\n",
       "      <td>#16</td>\n",
       "      <td>2021-05-11</td>\n",
       "      <td>Chironomidae</td>\n",
       "      <td>A</td>\n",
       "      <td>insect</td>\n",
       "      <td>Aquatic</td>\n",
       "      <td>Arthropoda: Insecta</td>\n",
       "      <td>Diptera</td>\n",
       "      <td>Chironomidae</td>\n",
       "      <td>midges</td>\n",
       "      <td>2.0</td>\n",
       "      <td>3</td>\n",
       "      <td>0.266553</td>\n",
       "    </tr>\n",
       "    <tr>\n",
       "      <th>2</th>\n",
       "      <td>Montana Creek</td>\n",
       "      <td>Mainstem/Side Channel</td>\n",
       "      <td>Coho</td>\n",
       "      <td>#16</td>\n",
       "      <td>2021-05-11</td>\n",
       "      <td>Rhyacophila</td>\n",
       "      <td>L</td>\n",
       "      <td>insect</td>\n",
       "      <td>Aquatic</td>\n",
       "      <td>Arthropoda: Insecta</td>\n",
       "      <td>Trichoptera</td>\n",
       "      <td>Rhyacophilidae</td>\n",
       "      <td>caddisflies</td>\n",
       "      <td>4.0</td>\n",
       "      <td>1</td>\n",
       "      <td>0.308137</td>\n",
       "    </tr>\n",
       "    <tr>\n",
       "      <th>3</th>\n",
       "      <td>Montana Creek</td>\n",
       "      <td>Mainstem/Side Channel</td>\n",
       "      <td>Coho</td>\n",
       "      <td>#16</td>\n",
       "      <td>2021-05-11</td>\n",
       "      <td>Baetidae</td>\n",
       "      <td>L</td>\n",
       "      <td>insect</td>\n",
       "      <td>Aquatic</td>\n",
       "      <td>Arthropoda: Insecta</td>\n",
       "      <td>Ephemeroptera</td>\n",
       "      <td>Baetidae</td>\n",
       "      <td>mayflies</td>\n",
       "      <td>3.0</td>\n",
       "      <td>1</td>\n",
       "      <td>0.124738</td>\n",
       "    </tr>\n",
       "    <tr>\n",
       "      <th>4</th>\n",
       "      <td>Montana Creek</td>\n",
       "      <td>Mainstem/Side Channel</td>\n",
       "      <td>Coho</td>\n",
       "      <td>#5</td>\n",
       "      <td>2021-05-11</td>\n",
       "      <td>Tipuloidea</td>\n",
       "      <td>L</td>\n",
       "      <td>insect</td>\n",
       "      <td>Aquatic</td>\n",
       "      <td>Arthropoda: Insecta</td>\n",
       "      <td>Diptera</td>\n",
       "      <td>Tipulidae</td>\n",
       "      <td>crane flies</td>\n",
       "      <td>5.0</td>\n",
       "      <td>1</td>\n",
       "      <td>0.216938</td>\n",
       "    </tr>\n",
       "  </tbody>\n",
       "</table>\n",
       "</div>"
      ],
      "text/plain": [
       "       Waterbody                Habitat Fish.species Sample.code         Date  \\\n",
       "0  Montana Creek               Mainstem         Coho          #5   2021-05-05   \n",
       "1  Montana Creek  Mainstem/Side Channel         Coho         #16   2021-05-11   \n",
       "2  Montana Creek  Mainstem/Side Channel         Coho         #16   2021-05-11   \n",
       "3  Montana Creek  Mainstem/Side Channel         Coho         #16   2021-05-11   \n",
       "4  Montana Creek  Mainstem/Side Channel         Coho          #5   2021-05-11   \n",
       "\n",
       "          Taxon Stage  Insect   Origin Higher.classification          Order  \\\n",
       "0  Chironomidae     L  insect  Aquatic   Arthropoda: Insecta        Diptera   \n",
       "1  Chironomidae     A  insect  Aquatic   Arthropoda: Insecta        Diptera   \n",
       "2   Rhyacophila     L  insect  Aquatic   Arthropoda: Insecta    Trichoptera   \n",
       "3      Baetidae     L  insect  Aquatic   Arthropoda: Insecta  Ephemeroptera   \n",
       "4    Tipuloidea     L  insect  Aquatic   Arthropoda: Insecta        Diptera   \n",
       "\n",
       "           Family  Common.name  Length  Abundance   Biomass  \n",
       "0    Chironomidae       midges     5.0          1  0.121472  \n",
       "1    Chironomidae       midges     2.0          3  0.266553  \n",
       "2  Rhyacophilidae  caddisflies     4.0          1  0.308137  \n",
       "3        Baetidae     mayflies     3.0          1  0.124738  \n",
       "4       Tipulidae  crane flies     5.0          1  0.216938  "
      ]
     },
     "execution_count": 146,
     "metadata": {},
     "output_type": "execute_result"
    }
   ],
   "source": [
    "fp = fps[7]\n",
    "print(fp)\n",
    "df = pd.read_csv(fp)\n",
    "df.head()"
   ]
  },
  {
   "cell_type": "code",
   "execution_count": null,
   "id": "b809dced-5280-43d2-b58c-5aa6cc0df0d9",
   "metadata": {},
   "outputs": [],
   "source": []
  }
 ],
 "metadata": {
  "kernelspec": {
   "display_name": "Python 3 (ipykernel)",
   "language": "python",
   "name": "python3"
  },
  "language_info": {
   "codemirror_mode": {
    "name": "ipython",
    "version": 3
   },
   "file_extension": ".py",
   "mimetype": "text/x-python",
   "name": "python",
   "nbconvert_exporter": "python",
   "pygments_lexer": "ipython3",
   "version": "3.9.15"
  }
 },
 "nbformat": 4,
 "nbformat_minor": 5
}
